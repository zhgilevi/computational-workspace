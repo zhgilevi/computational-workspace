{
 "cells": [
  {
   "cell_type": "code",
   "execution_count": 1,
   "id": "abc5c6e7",
   "metadata": {
    "scrolled": true
   },
   "outputs": [],
   "source": [
    "import copy\n",
    "import numpy as np\n",
    "from sympy.combinatorics import Permutation\n",
    "Permutation.print_cyclic = False"
   ]
  },
  {
   "cell_type": "code",
   "execution_count": 2,
   "id": "b2d327b1",
   "metadata": {},
   "outputs": [],
   "source": [
    "EPS=1e-9"
   ]
  },
  {
   "cell_type": "code",
   "execution_count": 3,
   "id": "47def7c0",
   "metadata": {},
   "outputs": [
    {
     "name": "stdout",
     "output_type": "stream",
     "text": [
      "poryadok sistemi 3\n"
     ]
    }
   ],
   "source": [
    "n=int(input(\"poryadok sistemi \"))"
   ]
  },
  {
   "cell_type": "code",
   "execution_count": 66,
   "id": "5380de68",
   "metadata": {},
   "outputs": [
    {
     "name": "stdout",
     "output_type": "stream",
     "text": [
      "1 2 3\n",
      "4 8 1\n",
      "2 3 5\n"
     ]
    }
   ],
   "source": [
    "matrix=[]\n",
    "for i in range(n):\n",
    "    matrix.append(list(map(float,input().split())))\n",
    "matrix=np.array(matrix)"
   ]
  },
  {
   "cell_type": "code",
   "execution_count": null,
   "id": "2612ae58",
   "metadata": {},
   "outputs": [],
   "source": [
    "'''\n",
    "9.331343 1.120045 -2.880925 \n",
    "1.120045 7.086042 0.670297 \n",
    "-2.880925 0.670297 5.622534 \n",
    "'''\n",
    "\n",
    "'''\n",
    "6.687233 0.80267 -20.6459 0\n",
    "0.80267 5.07816 0.48037 1\n",
    "-2.06459 0.48037 4.02934 0\n",
    "\n",
    "\n",
    "'''"
   ]
  },
  {
   "cell_type": "code",
   "execution_count": 33,
   "id": "9b0c1b6d",
   "metadata": {},
   "outputs": [],
   "source": [
    "def create_system(a,b):\n",
    "    a=np.array(a,dtype=\"float64\")\n",
    "    b=np.array(b,dtype=\"float64\").reshape(-1,1)\n",
    "    return np.concatenate((a,b),axis=1)\n",
    "\n",
    "def gauss_method(matrix,n=n,EPS=EPS,choice=False):\n",
    "    #matrix.dtype=np.float\n",
    "    perm_list=[]\n",
    "    matrix=matrix.astype(\"float64\")\n",
    "    m=len(matrix[0])\n",
    "    for i in range(n):\n",
    "        if (not choice):\n",
    "            tmp=matrix[i][i]\n",
    "            if abs(tmp)<EPS:\n",
    "                print(\"Vozmozhno delenie na malenkoe chislo\")\n",
    "                for j in range(i+1,n):\n",
    "                    if (matrix[j][i])>EPS:\n",
    "                        matrix[[i,j]]=matrix[[j,i]]\n",
    "                    elif (j==n-1):\n",
    "                        i+=1\n",
    "        else:\n",
    "            sort_a=matrix[0:n,i:n]\n",
    "            perm=sort_a[i].argsort()[::-1]\n",
    "            sort_a=sort_a[:,perm]\n",
    "            perm+=i\n",
    "            perm=np.concatenate((np.array(range(n-len(perm))),perm))\n",
    "            perm_list.append(perm)\n",
    "            matrix[0:n,i:n]=sort_a\n",
    "            tmp=matrix[i][i]\n",
    "        for j in range(i,m):\n",
    "            matrix[i][j]/=tmp\n",
    "        for j in range(i+1,n):\n",
    "            matrix[j]-=(matrix[i]*matrix[j][i])        \n",
    "    for i in range(n-1,-1,-1):\n",
    "        if (matrix[i][i]):\n",
    "            for j in range(i-1,-1,-1):\n",
    "                matrix[j]-=(matrix[i]*matrix[j][i])\n",
    "    if choice:\n",
    "        return matrix,perm_list\n",
    "    else:\n",
    "        return matrix,None"
   ]
  },
  {
   "cell_type": "code",
   "execution_count": 65,
   "id": "81acae77",
   "metadata": {},
   "outputs": [
    {
     "name": "stdout",
     "output_type": "stream",
     "text": [
      "[[  6.687233   0.80267  -20.6459     1.         0.         0.      ]\n",
      " [  0.80267    5.07816    0.48037    0.         1.         0.      ]\n",
      " [ -2.06459    0.48037    4.02934    0.         0.         1.      ]]\n"
     ]
    }
   ],
   "source": [
    "iden=np.identity(n)\n",
    "matrix_copy=copy.deepcopy(matrix)\n",
    "invert=np.concatenate((matrix_copy,iden),axis=1)\n",
    "print(invert)"
   ]
  },
  {
   "cell_type": "code",
   "execution_count": 60,
   "id": "61d19a51",
   "metadata": {},
   "outputs": [],
   "source": [
    "invert,tr=gauss_method(invert)"
   ]
  },
  {
   "cell_type": "code",
   "execution_count": 61,
   "id": "7833bc2d",
   "metadata": {},
   "outputs": [
    {
     "data": {
      "text/plain": [
       "array([[-0.2186595 ,  0.14214846, -1.13733414],\n",
       "       [ 0.04567545,  0.16947465,  0.21383161],\n",
       "       [-0.11748409,  0.05263089, -0.36007063]])"
      ]
     },
     "execution_count": 61,
     "metadata": {},
     "output_type": "execute_result"
    }
   ],
   "source": [
    "invert[0:n,n:2*n]"
   ]
  },
  {
   "cell_type": "code",
   "execution_count": 62,
   "id": "7db0126c",
   "metadata": {},
   "outputs": [
    {
     "name": "stdout",
     "output_type": "stream",
     "text": [
      "28.675178320882495\n"
     ]
    }
   ],
   "source": [
    "condition_number=np.linalg.norm(invert[0:n,n:2*n],\"fro\")*np.linalg.norm(matrix,\"fro\")\n",
    "print(condition_number)"
   ]
  },
  {
   "cell_type": "code",
   "execution_count": 63,
   "id": "a3651820",
   "metadata": {},
   "outputs": [
    {
     "data": {
      "text/plain": [
       "array([[ 1.00000000e+00,  9.09400631e-17, -5.03902861e-16],\n",
       "       [ 6.92972929e-18,  1.00000000e+00,  1.11555452e-16],\n",
       "       [ 7.09041529e-17, -3.22017085e-17,  1.00000000e+00]])"
      ]
     },
     "execution_count": 63,
     "metadata": {},
     "output_type": "execute_result"
    }
   ],
   "source": [
    "matrix_copy.dot(invert[0:n,n:2*n])"
   ]
  },
  {
   "cell_type": "code",
   "execution_count": 67,
   "id": "a3c3ec25",
   "metadata": {},
   "outputs": [
    {
     "name": "stdout",
     "output_type": "stream",
     "text": [
      "pravaya chast' 17 24 28\n"
     ]
    }
   ],
   "source": [
    "b=np.array(list(map(float,input(\"pravaya chast' \").split()))).reshape((-1,1))"
   ]
  },
  {
   "cell_type": "code",
   "execution_count": 64,
   "id": "34cef966",
   "metadata": {},
   "outputs": [],
   "source": [
    "#7.570463 8.876384 3.411906\n",
    "# 0 1 0"
   ]
  },
  {
   "cell_type": "code",
   "execution_count": 68,
   "id": "5b0f63dd",
   "metadata": {},
   "outputs": [
    {
     "name": "stdout",
     "output_type": "stream",
     "text": [
      "[[ 1.  2.  3. 17.]\n",
      " [ 4.  8.  1. 24.]\n",
      " [ 2.  3.  5. 28.]]\n",
      "Vozmozhno delenie na malenkoe chislo\n",
      "[[  1.  60.  nan  nan]\n",
      " [  0. -11.  nan  nan]\n",
      " [  0.  -1.  nan  nan]]\n",
      "\n",
      "[nan nan nan]\n",
      "\n",
      "[[nan]\n",
      " [nan]\n",
      " [nan]]\n"
     ]
    },
    {
     "name": "stderr",
     "output_type": "stream",
     "text": [
      "/tmp/ipykernel_3736/1434128690.py:33: RuntimeWarning: divide by zero encountered in double_scalars\n",
      "  matrix[i][j]/=tmp\n",
      "/tmp/ipykernel_3736/1434128690.py:33: RuntimeWarning: invalid value encountered in double_scalars\n",
      "  matrix[i][j]/=tmp\n"
     ]
    }
   ],
   "source": [
    "equations=copy.deepcopy(matrix)\n",
    "#equations=np.concatenate((equations,b),axis=1)\n",
    "equations=create_system(equations,b)\n",
    "print(equations)\n",
    "equations,perm_list=gauss_method(equations)\n",
    "print(equations)\n",
    "if (perm_list is  None):\n",
    "    answer=equations[0:n,-1]\n",
    "else:\n",
    "    id_p=Permutation(range (n))\n",
    "    for perm in perm_list:\n",
    "        id_p=id_p*Permutation(perm)\n",
    "    answer=(equations[0:n,-1])[((id_p).array_form)]\n",
    "print()\n",
    "print(answer)\n",
    "print()\n",
    "print(matrix@(answer.reshape((-1,1)))-b)"
   ]
  },
  {
   "cell_type": "code",
   "execution_count": 69,
   "id": "2bda91f6",
   "metadata": {
    "scrolled": false
   },
   "outputs": [
    {
     "name": "stdout",
     "output_type": "stream",
     "text": [
      "[[1. 0. 0. 4.]\n",
      " [0. 1. 0. 2.]\n",
      " [0. 0. 1. 1.]]\n",
      "\n",
      "[1. 2. 4.]\n",
      "\n",
      "[[ 0.00000000e+00]\n",
      " [ 0.00000000e+00]\n",
      " [-3.55271368e-15]]\n"
     ]
    }
   ],
   "source": [
    "equations=copy.deepcopy(matrix)\n",
    "#equations=np.concatenate((equations,b),axis=1)\n",
    "equations=create_system(equations,b)\n",
    "equations,perm_list=gauss_method(equations,choice=True)\n",
    "print(equations)\n",
    "if (perm_list is  None):\n",
    "    answer=equations[0:n,-1]\n",
    "else:\n",
    "    id_p=Permutation(range (n))\n",
    "    for perm in perm_list:\n",
    "        id_p=id_p*Permutation(perm)\n",
    "    answer=(equations[0:n,-1])[((id_p).array_form)]\n",
    "print()\n",
    "print(answer)\n",
    "print()\n",
    "print(matrix@(answer.reshape((-1,1)))-b)"
   ]
  },
  {
   "cell_type": "code",
   "execution_count": 46,
   "id": "8a8cbbdb",
   "metadata": {},
   "outputs": [],
   "source": [
    "def LU_decomposition(matrix,b,n):\n",
    "    matrix=np.array(matrix)\n",
    "\n",
    "    b=np.array(b,dtype=\"float64\").reshape((-1,1))\n",
    "    matrix=np.concatenate((matrix,b),axis=1)\n",
    "    L=np.zeros((n,n),dtype=\"float64\")\n",
    "    U=np.identity(n,dtype=\"float64\")\n",
    "    U=np.concatenate((U,b),axis=1)\n",
    "    for i in range(n):\n",
    "        for j in range(i,n):\n",
    "            s=0\n",
    "            for k in range(i):\n",
    "                s+=L[j][k]*U[k][i]\n",
    "            L[j][i]=matrix[j][i]-s\n",
    "        for j in range (i,n+1):\n",
    "            s=0\n",
    "            for k in range (i):\n",
    "                s+=L[i][k]*U[k][j]\n",
    "            U[i][j]=(matrix[i][j]-s)/L[i][i]\n",
    "    return L,U\n",
    "            \n",
    "    "
   ]
  },
  {
   "cell_type": "code",
   "execution_count": 47,
   "id": "7a99136f",
   "metadata": {},
   "outputs": [],
   "source": [
    "matrix_d=copy.deepcopy(matrix)\n",
    "L,U=LU_decomposition(matrix_d,b,n)"
   ]
  },
  {
   "cell_type": "code",
   "execution_count": 48,
   "id": "b37138e6",
   "metadata": {},
   "outputs": [
    {
     "data": {
      "text/plain": [
       "array([[ 6.687233  ,  0.        ,  0.        ],\n",
       "       [ 0.80267   ,  4.98181535,  0.        ],\n",
       "       [-2.06459   ,  0.72818318, -2.77723291]])"
      ]
     },
     "execution_count": 48,
     "metadata": {},
     "output_type": "execute_result"
    }
   ],
   "source": [
    "L"
   ]
  },
  {
   "cell_type": "code",
   "execution_count": 49,
   "id": "e9faf3b7",
   "metadata": {
    "scrolled": true
   },
   "outputs": [
    {
     "data": {
      "text/plain": [
       "array([[ 1.        ,  0.12003021, -3.08736065,  0.        ],\n",
       "       [ 0.        ,  1.        ,  0.59386018,  0.20073004],\n",
       "       [ 0.        ,  0.        ,  1.        ,  0.05263089]])"
      ]
     },
     "execution_count": 49,
     "metadata": {},
     "output_type": "execute_result"
    }
   ],
   "source": [
    "U"
   ]
  },
  {
   "cell_type": "code",
   "execution_count": 50,
   "id": "723bb885",
   "metadata": {},
   "outputs": [
    {
     "data": {
      "text/plain": [
       "array([[ 6.6872330e+00,  8.0267000e-01, -2.0645900e+01,  0.0000000e+00],\n",
       "       [ 8.0267000e-01,  5.0781600e+00,  4.8037000e-01,  1.0000000e+00],\n",
       "       [-2.0645900e+00,  4.8037000e-01,  4.0293400e+00,  1.6449154e-20]])"
      ]
     },
     "execution_count": 50,
     "metadata": {},
     "output_type": "execute_result"
    }
   ],
   "source": [
    "L.dot(U)"
   ]
  },
  {
   "cell_type": "code",
   "execution_count": 51,
   "id": "2d803959",
   "metadata": {},
   "outputs": [
    {
     "name": "stdout",
     "output_type": "stream",
     "text": [
      "[[  6.687233   0.80267  -20.6459  ]\n",
      " [  0.80267    5.07816    0.48037 ]\n",
      " [ -2.06459    0.48037    4.02934 ]] \n",
      " [[0.]\n",
      " [1.]\n",
      " [0.]]\n"
     ]
    }
   ],
   "source": [
    "print(matrix,\"\\n\",b)"
   ]
  },
  {
   "cell_type": "code",
   "execution_count": 52,
   "id": "1be4cc35",
   "metadata": {},
   "outputs": [
    {
     "name": "stdout",
     "output_type": "stream",
     "text": [
      "[0.         0.20073004 0.05263089]\n"
     ]
    }
   ],
   "source": [
    "y=U[0:n,-1]\n",
    "print(y)"
   ]
  },
  {
   "cell_type": "code",
   "execution_count": 53,
   "id": "c4dc708f",
   "metadata": {},
   "outputs": [
    {
     "name": "stdout",
     "output_type": "stream",
     "text": [
      "[[1.         0.         0.         0.14214846]\n",
      " [0.         1.         0.         0.16947465]\n",
      " [0.         0.         1.         0.05263089]]\n",
      "\n",
      "[0.14214846 0.16947465 0.05263089]\n",
      "\n",
      "[[ 9.09400631e-17]\n",
      " [ 0.00000000e+00]\n",
      " [-3.22017085e-17]]\n"
     ]
    }
   ],
   "source": [
    "\n",
    "lu_ans,tr=gauss_method(U,n)\n",
    "print(lu_ans)\n",
    "print()\n",
    "print(lu_ans[0:n,-1])\n",
    "print()\n",
    "print(matrix@(lu_ans[0:n,-1].reshape((-1,1)))-b)"
   ]
  },
  {
   "cell_type": "code",
   "execution_count": 54,
   "id": "3cc3f9bf",
   "metadata": {},
   "outputs": [
    {
     "data": {
      "text/plain": [
       "array([[1.        , 0.        , 0.        , 0.14214846],\n",
       "       [0.        , 1.        , 0.        , 0.16947465],\n",
       "       [0.        , 0.        , 1.        , 0.05263089]])"
      ]
     },
     "execution_count": 54,
     "metadata": {},
     "output_type": "execute_result"
    }
   ],
   "source": [
    "lu_ans"
   ]
  },
  {
   "cell_type": "code",
   "execution_count": null,
   "id": "4618a2f2",
   "metadata": {},
   "outputs": [],
   "source": []
  },
  {
   "cell_type": "code",
   "execution_count": 55,
   "id": "2037dcd3",
   "metadata": {},
   "outputs": [],
   "source": [
    "matrix_c=copy.deepcopy(matrix)"
   ]
  },
  {
   "cell_type": "code",
   "execution_count": 56,
   "id": "4d8a9483",
   "metadata": {},
   "outputs": [],
   "source": [
    "matrix_c[0][0]=1e-10*matrix[0][0]"
   ]
  },
  {
   "cell_type": "code",
   "execution_count": 57,
   "id": "a52a5a08",
   "metadata": {},
   "outputs": [
    {
     "name": "stdout",
     "output_type": "stream",
     "text": [
      "Vozmozhno delenie na malenkoe chislo\n",
      "[[220.91839946   0.           0.           1.        ]\n",
      " [-43.18674141   1.           0.           0.        ]\n",
      " [ -1.67901141   0.           1.           0.        ]]\n",
      "\n",
      "[1. 0. 0.]\n",
      "\n",
      "[[ 6.687233e-10]\n",
      " [-1.973300e-01]\n",
      " [-2.064590e+00]]\n"
     ]
    }
   ],
   "source": [
    "equations=copy.deepcopy(matrix_c)\n",
    "#equations=np.concatenate((equations,b),axis=1)\n",
    "equations=create_system(equations,b)\n",
    "equations,perm_list=gauss_method(equations)\n",
    "print(equations)\n",
    "if (perm_list is  None):\n",
    "    answer=equations[0:n,-1]\n",
    "else:\n",
    "    id_p=Permutation(range (n))\n",
    "    for perm in perm_list:\n",
    "        id_p=id_p*Permutation(perm)\n",
    "    answer=(equations[0:n,-1])[((id_p).array_form)]\n",
    "print()\n",
    "print(answer)\n",
    "print()\n",
    "print(matrix_c@(answer.reshape((-1,1)))-b)"
   ]
  },
  {
   "cell_type": "code",
   "execution_count": 58,
   "id": "791ddd5f",
   "metadata": {},
   "outputs": [
    {
     "name": "stdout",
     "output_type": "stream",
     "text": [
      "[[1.         0.         0.         0.18710835]\n",
      " [0.         1.         0.         0.00727439]\n",
      " [0.         0.         1.         0.05773166]]\n",
      "\n",
      "[0.05773166 0.18710835 0.00727439]\n",
      "\n",
      "[[ 2.38447370e-18]\n",
      " [ 2.22044605e-16]\n",
      " [-2.31715822e-17]]\n"
     ]
    }
   ],
   "source": [
    "equations=copy.deepcopy(matrix_c)\n",
    "#equations=np.concatenate((equations,b),axis=1)\n",
    "equations=create_system(equations,b)\n",
    "equations,perm_list=gauss_method(equations,choice=True)\n",
    "print(equations)\n",
    "if (perm_list is  None):\n",
    "    answer=equations[0:n,-1]\n",
    "else:\n",
    "    id_p=Permutation(range (n))\n",
    "    for perm in perm_list:\n",
    "        id_p=id_p*Permutation(perm)\n",
    "    answer=(equations[0:n,-1])[((id_p).array_form)]\n",
    "print()\n",
    "print(answer)\n",
    "print()\n",
    "print(matrix_c@(answer.reshape((-1,1)))-b)"
   ]
  },
  {
   "cell_type": "code",
   "execution_count": null,
   "id": "024c6aca",
   "metadata": {},
   "outputs": [],
   "source": []
  },
  {
   "cell_type": "code",
   "execution_count": null,
   "id": "4e077f9d",
   "metadata": {},
   "outputs": [],
   "source": []
  },
  {
   "cell_type": "code",
   "execution_count": null,
   "id": "b70f8f6a",
   "metadata": {},
   "outputs": [],
   "source": []
  }
 ],
 "metadata": {
  "kernelspec": {
   "display_name": "Python 3 (ipykernel)",
   "language": "python",
   "name": "python3"
  },
  "language_info": {
   "codemirror_mode": {
    "name": "ipython",
    "version": 3
   },
   "file_extension": ".py",
   "mimetype": "text/x-python",
   "name": "python",
   "nbconvert_exporter": "python",
   "pygments_lexer": "ipython3",
   "version": "3.10.6"
  }
 },
 "nbformat": 4,
 "nbformat_minor": 5
}
