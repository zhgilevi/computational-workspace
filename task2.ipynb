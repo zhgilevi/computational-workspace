{
 "cells": [
  {
   "cell_type": "markdown",
   "id": "74195c34",
   "metadata": {},
   "source": [
    "Вариант 7"
   ]
  },
  {
   "cell_type": "code",
   "execution_count": 1,
   "id": "77b71029",
   "metadata": {},
   "outputs": [],
   "source": [
    "import copy\n",
    "import numpy as np\n",
    "from sympy.combinatorics import Permutation\n",
    "import math\n",
    "Permutation.print_cyclic = False"
   ]
  },
  {
   "cell_type": "code",
   "execution_count": 4,
   "id": "1bba71b5",
   "metadata": {},
   "outputs": [
    {
     "name": "stdout",
     "output_type": "stream",
     "text": [
      "Vvedite poryadok sistemy 4\n"
     ]
    }
   ],
   "source": [
    "n = int(input(\"Vvedite poryadok sistemy \"))"
   ]
  },
  {
   "cell_type": "code",
   "execution_count": 5,
   "id": "cb195e83",
   "metadata": {},
   "outputs": [
    {
     "name": "stdout",
     "output_type": "stream",
     "text": [
      "Vvedite sistemu srazu s pravoi chastyu\n",
      "0.78 -0.02 -0.12 -0.14 0.76\n",
      "-0.02 0.86 -0.04 0.06 0.08\n",
      "-0.12 -0.04 0.72 -0.08 1.12\n",
      "-0.14 0.06 -0.08 0.74 0.68\n"
     ]
    }
   ],
   "source": [
    "print(\"Vvedite sistemu srazu s pravoi chastyu\")\n",
    "matrix=[]\n",
    "for i in range(n):\n",
    "    matrix.append(list(map(float,input().split())))\n",
    "matrix=np.array(matrix)"
   ]
  },
  {
   "cell_type": "code",
   "execution_count": 3,
   "id": "44fdfff9",
   "metadata": {
    "scrolled": true
   },
   "outputs": [
    {
     "data": {
      "text/plain": [
       "'\\n1 0.4 0.2 0.6\\n0.5 0.8 0.2 0.7\\n0 0.8 1 1.4\\n'"
      ]
     },
     "execution_count": 3,
     "metadata": {},
     "output_type": "execute_result"
    }
   ],
   "source": [
    "'''\n",
    "\n",
    "10 -2 -2 6\n",
    "-1 10 -2 7\n",
    "-1 -1 10 8\n",
    "\n",
    "\n",
    "\n",
    "2 3 -1 9\n",
    "1 -2 1 3\n",
    "1 0 2 2\n",
    "'''\n",
    "\n",
    "'''\n",
    "1 0.4 0.2 0.6\n",
    "0.5 0.8 0.2 0.7\n",
    "0 0.8 1 1.4\n",
    "'''\n",
    "\n",
    "\n",
    "'''\n",
    "0.78 -0.02 -0.12 -0.14 0.76\n",
    "-0.02 0.86 -0.04 0.06 0.08\n",
    "-0.12 -0.04 0.72 -0.08 1.12\n",
    "-0.14 0.06 -0.08 0.74 0.68\n",
    "\n",
    "\n",
    "\n",
    "\n",
    "'''\n"
   ]
  },
  {
   "cell_type": "code",
   "execution_count": 6,
   "id": "f0ee8543",
   "metadata": {},
   "outputs": [],
   "source": [
    "def gauss_method(matrix,n=n):\n",
    "    #matrix.dtype=np.float\n",
    "    perm_list=[]\n",
    "    matrix=matrix.astype(\"float64\")\n",
    "    m=len(matrix[0])\n",
    "    for i in range(n):\n",
    "        sort_a=matrix[0:n,i:n]\n",
    "        perm=sort_a[i].argsort()[::-1]\n",
    "        sort_a=sort_a[:,perm]\n",
    "        perm+=i\n",
    "        perm=np.concatenate((np.array(range(n-len(perm))),perm))\n",
    "        perm_list.append(perm)\n",
    "        matrix[0:n,i:n]=sort_a\n",
    "        tmp=matrix[i][i]\n",
    "        for j in range(i,m):\n",
    "            matrix[i][j]/=tmp\n",
    "        for j in range(i+1,n):\n",
    "            matrix[j]-=(matrix[i]*matrix[j][i])  \n",
    "    for i in range(n-1,-1,-1):\n",
    "        if (matrix[i][i]):\n",
    "            for j in range(i-1,-1,-1):\n",
    "                matrix[j]-=(matrix[i]*matrix[j][i])\n",
    "    return matrix,perm_list"
   ]
  },
  {
   "cell_type": "code",
   "execution_count": 7,
   "id": "dcb85250",
   "metadata": {},
   "outputs": [
    {
     "name": "stdout",
     "output_type": "stream",
     "text": [
      "[1.53496503 0.12200957 1.97515642 1.41295547]\n"
     ]
    }
   ],
   "source": [
    "equations=copy.deepcopy(matrix)\n",
    "#equations=np.concatenate((equations,b),axis=1)\n",
    "equations,perm_list=gauss_method(equations)\n",
    "if (perm_list is  None):\n",
    "    answer=equations[0:n,-1]\n",
    "else:\n",
    "    id_p=Permutation(range (n))\n",
    "    for perm in perm_list:\n",
    "        id_p=id_p*Permutation(perm)\n",
    "    answer=(equations[0:n,-1])[((id_p).array_form)]\n",
    "print(answer)\n",
    "\n"
   ]
  },
  {
   "cell_type": "code",
   "execution_count": 8,
   "id": "da271b2e",
   "metadata": {},
   "outputs": [],
   "source": [
    "A = matrix[0:n,0:n]\n",
    "b = matrix[0:n,n]\n",
    "D = np.zeros((n,n))\n",
    "D_invert = np.zeros((n,n))\n",
    "L = np.zeros((n,n))\n",
    "R = np.zeros((n,n))\n",
    "for i in range (n):\n",
    "    D[i][i] = A[i][i]\n",
    "    D_invert[i][i] = 1/A[i][i]\n",
    "    for j in range (n):\n",
    "        if (j<i):\n",
    "            L[i][j] = A[i][j]\n",
    "        elif (j>i):\n",
    "            R[i][j] = A[i][j]\n",
    "\n",
    "H = np.identity(n) - D_invert@A\n",
    "g = D_invert@b"
   ]
  },
  {
   "cell_type": "code",
   "execution_count": 9,
   "id": "0531e1fa",
   "metadata": {},
   "outputs": [
    {
     "data": {
      "text/plain": [
       "(array([[ 0.00000000e+00,  2.56410256e-02,  1.53846154e-01,\n",
       "          1.79487179e-01],\n",
       "        [ 2.32558140e-02,  0.00000000e+00,  4.65116279e-02,\n",
       "         -6.97674419e-02],\n",
       "        [ 1.66666667e-01,  5.55555556e-02,  1.11022302e-16,\n",
       "          1.11111111e-01],\n",
       "        [ 1.89189189e-01, -8.10810811e-02,  1.08108108e-01,\n",
       "          0.00000000e+00]]),\n",
       " array([0.97435897, 0.09302326, 1.55555556, 0.91891892]))"
      ]
     },
     "execution_count": 9,
     "metadata": {},
     "output_type": "execute_result"
    }
   ],
   "source": [
    "H,g"
   ]
  },
  {
   "cell_type": "code",
   "execution_count": 10,
   "id": "90617d7f",
   "metadata": {},
   "outputs": [
    {
     "data": {
      "text/plain": [
       "0.3783783783783784"
      ]
     },
     "execution_count": 10,
     "metadata": {},
     "output_type": "execute_result"
    }
   ],
   "source": [
    "np.linalg.norm(H,float(\"inf\"))"
   ]
  },
  {
   "cell_type": "code",
   "execution_count": 11,
   "id": "831f68a8",
   "metadata": {},
   "outputs": [],
   "source": [
    "K=7\n",
    "def iterate_method(H,g,k=K,n=n):\n",
    "    output = np.zeros(n)\n",
    "    x_prev=None\n",
    "    for i in range(k):\n",
    "        x_prev=output\n",
    "        output = H@x_prev+g\n",
    "    return output,x_prev"
   ]
  },
  {
   "cell_type": "code",
   "execution_count": 12,
   "id": "366260c7",
   "metadata": {},
   "outputs": [],
   "source": [
    "iterate_answer, x_prev = iterate_method(H,g)"
   ]
  },
  {
   "cell_type": "code",
   "execution_count": 13,
   "id": "b7dc82ec",
   "metadata": {
    "scrolled": true
   },
   "outputs": [
    {
     "data": {
      "text/plain": [
       "array([1.53454378, 0.1220109 , 1.97478423, 1.4125631 ])"
      ]
     },
     "execution_count": 13,
     "metadata": {},
     "output_type": "execute_result"
    }
   ],
   "source": [
    "iterate_answer"
   ]
  },
  {
   "cell_type": "code",
   "execution_count": 14,
   "id": "1b366a21",
   "metadata": {},
   "outputs": [
    {
     "data": {
      "text/plain": [
       "array([1.5335941 , 0.12201245, 1.9739283 , 1.41166072])"
      ]
     },
     "execution_count": 14,
     "metadata": {},
     "output_type": "execute_result"
    }
   ],
   "source": [
    "x_prev"
   ]
  },
  {
   "cell_type": "code",
   "execution_count": 15,
   "id": "f049914a",
   "metadata": {},
   "outputs": [
    {
     "data": {
      "text/plain": [
       "array([1.53496503, 0.12200957, 1.97515642, 1.41295547])"
      ]
     },
     "execution_count": 15,
     "metadata": {},
     "output_type": "execute_result"
    }
   ],
   "source": [
    "answer"
   ]
  },
  {
   "cell_type": "code",
   "execution_count": 16,
   "id": "0dd9ef41",
   "metadata": {},
   "outputs": [],
   "source": [
    "def spec_radius(input):\n",
    "    radius = max(np.absolute(np.linalg.eigvals(input)))\n",
    "    return radius\n",
    "\n",
    "def apr_eval(H=H,g=g,k=K):\n",
    "    return np.linalg.norm(H)**k/(1-np.linalg.norm(H,float(\"inf\")))*np.linalg.norm(g,float(\"inf\"))\n",
    "\n",
    "def apostr_eval(x_k,x_prev,H=H,g=g):\n",
    "    return np.linalg.norm(H)/(1-np.linalg.norm(H,float(\"inf\")))*np.linalg.norm(x_k-x_prev,float(\"inf\"))\n",
    "\n",
    "def lust(x_k,x_prev,H=H):\n",
    "    radius = spec_radius(H)\n",
    "    return x_k + radius/(1-radius) * (x_k-x_prev)\n",
    "    "
   ]
  },
  {
   "cell_type": "code",
   "execution_count": 17,
   "id": "071e81b0",
   "metadata": {},
   "outputs": [
    {
     "data": {
      "text/plain": [
       "0.004224821326595804"
      ]
     },
     "execution_count": 17,
     "metadata": {},
     "output_type": "execute_result"
    }
   ],
   "source": [
    "apr_eval()"
   ]
  },
  {
   "cell_type": "code",
   "execution_count": 18,
   "id": "b9e10eb8",
   "metadata": {},
   "outputs": [
    {
     "data": {
      "text/plain": [
       "0.0006137239321379526"
      ]
     },
     "execution_count": 18,
     "metadata": {},
     "output_type": "execute_result"
    }
   ],
   "source": [
    "apostr_eval(iterate_answer,x_prev)"
   ]
  },
  {
   "cell_type": "code",
   "execution_count": 19,
   "id": "968bdd0c",
   "metadata": {},
   "outputs": [
    {
     "data": {
      "text/plain": [
       "0.0004212583334346487"
      ]
     },
     "execution_count": 19,
     "metadata": {},
     "output_type": "execute_result"
    }
   ],
   "source": [
    "np.linalg.norm(answer-iterate_answer,float(\"inf\"))"
   ]
  },
  {
   "cell_type": "code",
   "execution_count": 20,
   "id": "032002f5",
   "metadata": {},
   "outputs": [],
   "source": [
    "lust_answer=lust(iterate_answer,x_prev)"
   ]
  },
  {
   "cell_type": "code",
   "execution_count": 21,
   "id": "0c4a5b40",
   "metadata": {},
   "outputs": [
    {
     "data": {
      "text/plain": [
       "array([1.53495994, 0.12201022, 1.97515932, 1.41295853])"
      ]
     },
     "execution_count": 21,
     "metadata": {},
     "output_type": "execute_result"
    }
   ],
   "source": [
    "lust_answer"
   ]
  },
  {
   "cell_type": "code",
   "execution_count": 22,
   "id": "3f54126d",
   "metadata": {},
   "outputs": [
    {
     "data": {
      "text/plain": [
       "5.092872696454975e-06"
      ]
     },
     "execution_count": 22,
     "metadata": {},
     "output_type": "execute_result"
    }
   ],
   "source": [
    "np.linalg.norm(answer-lust_answer,float(\"inf\"))"
   ]
  },
  {
   "cell_type": "code",
   "execution_count": 48,
   "id": "b19385cd",
   "metadata": {},
   "outputs": [],
   "source": [
    "H_L = -D_invert@L\n",
    "H_R = -D_invert@R\n",
    "\n",
    "def seid(k=7,matrix=matrix,g=g,H_R=H_R, H_L=H_L,n=n):\n",
    "    x_next=np.zeros(n)\n",
    "    \n",
    "    for t in range(k):\n",
    "        x_prev=x_next\n",
    "        #x_next=g[i]+x_next@H_L + x_prev@H_R\n",
    "        #x_next = np.linalg.inv(np.identity(n)-H_L)@H_R@x_prev+np.linalg.inv(np.identity(n)-H_L)@g\n",
    "    \n",
    "        for i in range(n):\n",
    "            comp = g[i] \n",
    "            comp+=H_L[i]@x_next\n",
    "            comp += H_R[i]@x_prev\n",
    "    \n",
    "            x_next[i]=comp\n",
    "            \n",
    "    return x_next\n",
    "    "
   ]
  },
  {
   "cell_type": "code",
   "execution_count": 49,
   "id": "ae739b74",
   "metadata": {},
   "outputs": [
    {
     "data": {
      "text/plain": [
       "array([1.53496503, 0.12200957, 1.97515642, 1.41295547])"
      ]
     },
     "execution_count": 49,
     "metadata": {},
     "output_type": "execute_result"
    }
   ],
   "source": [
    "answer"
   ]
  },
  {
   "cell_type": "code",
   "execution_count": 50,
   "id": "214228d5",
   "metadata": {},
   "outputs": [],
   "source": [
    "seid_answer = seid()"
   ]
  },
  {
   "cell_type": "code",
   "execution_count": 51,
   "id": "d2a2abd1",
   "metadata": {},
   "outputs": [
    {
     "data": {
      "text/plain": [
       "array([1.53496422, 0.12200953, 1.97515609, 1.41295528])"
      ]
     },
     "execution_count": 51,
     "metadata": {},
     "output_type": "execute_result"
    }
   ],
   "source": [
    "seid_answer"
   ]
  },
  {
   "cell_type": "code",
   "execution_count": 52,
   "id": "5939b40f",
   "metadata": {},
   "outputs": [
    {
     "data": {
      "text/plain": [
       "8.19413846553374e-07"
      ]
     },
     "execution_count": 52,
     "metadata": {},
     "output_type": "execute_result"
    }
   ],
   "source": [
    "np.linalg.norm(answer-seid_answer,float(\"inf\"))"
   ]
  },
  {
   "cell_type": "code",
   "execution_count": 53,
   "id": "d19f5b37",
   "metadata": {},
   "outputs": [],
   "source": [
    "H_seid = -(np.linalg.inv(D+L))@R"
   ]
  },
  {
   "cell_type": "code",
   "execution_count": 54,
   "id": "d05a11bb",
   "metadata": {},
   "outputs": [],
   "source": [
    "radius_seid = spec_radius(H_seid)"
   ]
  },
  {
   "cell_type": "code",
   "execution_count": 55,
   "id": "4db96f4c",
   "metadata": {},
   "outputs": [
    {
     "data": {
      "text/plain": [
       "0.10568959696378756"
      ]
     },
     "execution_count": 55,
     "metadata": {},
     "output_type": "execute_result"
    }
   ],
   "source": [
    "radius_seid"
   ]
  },
  {
   "cell_type": "code",
   "execution_count": 56,
   "id": "b941451a",
   "metadata": {},
   "outputs": [],
   "source": [
    "def rel(matrix = matrix, H=H, n=n, k=7):\n",
    "    q_opt = 2/(1+math.sqrt(1-spec_radius(H)**2))\n",
    "    A = matrix[:,:n]\n",
    "    b = matrix[:,n:n+1]\n",
    "    x_next=np.zeros(n)\n",
    "    for i in range(k):\n",
    "        x_prev= x_next\n",
    "        for j in range(n):\n",
    "            x_next[j] = x_prev[j] + q_opt*(b[j] - (x_next[0:j]@A[j,0:j] + \n",
    "                                           x_prev[j:n]@A[j,j:n]))/A[j][j]\n",
    "            \n",
    "    return x_next\n",
    "    \n",
    "    \n",
    "    "
   ]
  },
  {
   "cell_type": "code",
   "execution_count": 57,
   "id": "a7df79ec",
   "metadata": {},
   "outputs": [],
   "source": [
    "rel_answer = rel()"
   ]
  },
  {
   "cell_type": "code",
   "execution_count": 58,
   "id": "ce3cd4fa",
   "metadata": {},
   "outputs": [
    {
     "data": {
      "text/plain": [
       "array([1.53496501, 0.12200957, 1.97515641, 1.41295546])"
      ]
     },
     "execution_count": 58,
     "metadata": {},
     "output_type": "execute_result"
    }
   ],
   "source": [
    "rel_answer"
   ]
  },
  {
   "cell_type": "code",
   "execution_count": 34,
   "id": "350f1f0d",
   "metadata": {},
   "outputs": [
    {
     "data": {
      "text/plain": [
       "array([-2.95513845e-08, -2.23537892e-09, -9.97129135e-09, -4.75405670e-09])"
      ]
     },
     "execution_count": 34,
     "metadata": {},
     "output_type": "execute_result"
    }
   ],
   "source": [
    "rel_answer - answer\n",
    "\n"
   ]
  },
  {
   "cell_type": "code",
   "execution_count": 35,
   "id": "3b0bc45a",
   "metadata": {},
   "outputs": [
    {
     "data": {
      "text/plain": [
       "2.9551384450599016e-08"
      ]
     },
     "execution_count": 35,
     "metadata": {},
     "output_type": "execute_result"
    }
   ],
   "source": [
    "np.linalg.norm(rel_answer-answer,float(\"inf\"))"
   ]
  },
  {
   "cell_type": "code",
   "execution_count": null,
   "id": "2c8fea06",
   "metadata": {},
   "outputs": [],
   "source": []
  }
 ],
 "metadata": {
  "kernelspec": {
   "display_name": "Python 3 (ipykernel)",
   "language": "python",
   "name": "python3"
  },
  "language_info": {
   "codemirror_mode": {
    "name": "ipython",
    "version": 3
   },
   "file_extension": ".py",
   "mimetype": "text/x-python",
   "name": "python",
   "nbconvert_exporter": "python",
   "pygments_lexer": "ipython3",
   "version": "3.10.6"
  }
 },
 "nbformat": 4,
 "nbformat_minor": 5
}
