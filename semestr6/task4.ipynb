{
 "cells": [
  {
   "cell_type": "markdown",
   "source": [
    "        Задание 4. Вариант 7"
   ],
   "metadata": {
    "collapsed": false
   }
  },
  {
   "cell_type": "markdown",
   "source": [
    "<img src=\"img_2.png\">"
   ],
   "metadata": {
    "collapsed": false
   }
  },
  {
   "cell_type": "code",
   "execution_count": 2,
   "outputs": [],
   "source": [],
   "metadata": {
    "collapsed": false,
    "ExecuteTime": {
     "end_time": "2023-05-12T18:32:47.592752638Z",
     "start_time": "2023-05-12T18:32:47.585519393Z"
    }
   }
  },
  {
   "cell_type": "code",
   "execution_count": 1,
   "outputs": [],
   "source": [
    "import numpy as np\n",
    "import matplotlib.pyplot as plt\n",
    "from scipy.integrate import quad\n",
    "import math"
   ],
   "metadata": {
    "collapsed": false,
    "ExecuteTime": {
     "end_time": "2023-05-17T10:39:09.879501228Z",
     "start_time": "2023-05-17T10:39:09.236710739Z"
    }
   }
  },
  {
   "cell_type": "code",
   "execution_count": 2,
   "outputs": [],
   "source": [
    "\n",
    "psi = lambda x, p : np.sin(p * np.pi * x) * np.sqrt(2)\n",
    "\n",
    "phi = lambda x : (x - 1) * np.sin(np.pi / 3 * x)\n",
    "\n",
    "\n",
    "x_grid = np.linspace(0, 1, 1000)\n",
    "T = 100"
   ],
   "metadata": {
    "collapsed": false,
    "ExecuteTime": {
     "end_time": "2023-05-17T10:39:26.114016839Z",
     "start_time": "2023-05-17T10:39:26.099665978Z"
    }
   }
  },
  {
   "cell_type": "code",
   "execution_count": 3,
   "outputs": [],
   "source": [],
   "metadata": {
    "collapsed": false,
    "ExecuteTime": {
     "end_time": "2023-05-17T10:39:27.947854752Z",
     "start_time": "2023-05-17T10:39:27.906989261Z"
    }
   }
  },
  {
   "cell_type": "markdown",
   "source": [],
   "metadata": {
    "collapsed": false
   }
  },
  {
   "cell_type": "code",
   "execution_count": 4,
   "outputs": [],
   "source": [
    "series_num = 150\n",
    "\n",
    "c = np.array([quad( lambda x: psi(x, p) * phi(x), 0, 1)[0] for p in range(series_num)])"
   ],
   "metadata": {
    "collapsed": false,
    "ExecuteTime": {
     "end_time": "2023-05-17T10:39:33.070579836Z",
     "start_time": "2023-05-17T10:39:32.689252631Z"
    }
   }
  },
  {
   "cell_type": "code",
   "execution_count": 5,
   "outputs": [],
   "source": [
    "u_f = lambda x, t : np.sqrt(2) * np.sum([c[i] * np.exp(-np.pi**2 * i**2 *t)*np.sin(i*np.pi*x) for i in range(series_num)])"
   ],
   "metadata": {
    "collapsed": false,
    "ExecuteTime": {
     "end_time": "2023-05-17T10:39:33.652550340Z",
     "start_time": "2023-05-17T10:39:33.627263364Z"
    }
   }
  },
  {
   "cell_type": "code",
   "execution_count": 6,
   "outputs": [
    {
     "data": {
      "text/plain": "-0.20073921173113032"
     },
     "execution_count": 6,
     "metadata": {},
     "output_type": "execute_result"
    }
   ],
   "source": [
    "u_f(0.7,0)"
   ],
   "metadata": {
    "collapsed": false,
    "ExecuteTime": {
     "end_time": "2023-05-17T10:39:34.305243049Z",
     "start_time": "2023-05-17T10:39:34.287438397Z"
    }
   }
  },
  {
   "cell_type": "code",
   "execution_count": 6,
   "outputs": [],
   "source": [],
   "metadata": {
    "collapsed": false,
    "ExecuteTime": {
     "end_time": "2023-05-17T10:39:34.883625282Z",
     "start_time": "2023-05-17T10:39:34.847059036Z"
    }
   }
  },
  {
   "cell_type": "code",
   "execution_count": 6,
   "outputs": [],
   "source": [],
   "metadata": {
    "collapsed": false,
    "ExecuteTime": {
     "end_time": "2023-05-17T10:39:35.408405002Z",
     "start_time": "2023-05-17T10:39:35.349645629Z"
    }
   }
  },
  {
   "cell_type": "code",
   "execution_count": 7,
   "outputs": [
    {
     "data": {
      "text/plain": "-0.20073918190765747"
     },
     "execution_count": 7,
     "metadata": {},
     "output_type": "execute_result"
    }
   ],
   "source": [
    "phi(0.7)"
   ],
   "metadata": {
    "collapsed": false,
    "ExecuteTime": {
     "end_time": "2023-05-17T10:39:35.651038993Z",
     "start_time": "2023-05-17T10:39:35.647369080Z"
    }
   }
  },
  {
   "cell_type": "code",
   "execution_count": 15,
   "outputs": [],
   "source": [
    "def get_grid(n):\n",
    "    return np.linspace(0, 1, n+1)\n",
    "\n",
    "N = 20\n",
    "h = 1 / N\n",
    "grid = get_grid(N)"
   ],
   "metadata": {
    "collapsed": false,
    "ExecuteTime": {
     "end_time": "2023-05-17T10:40:11.523753799Z",
     "start_time": "2023-05-17T10:40:11.516399220Z"
    }
   }
  },
  {
   "cell_type": "code",
   "execution_count": 16,
   "outputs": [],
   "source": [
    "c_discr = np.array([ np.sqrt(2) * h * np.sum(\n",
    "    [phi(node) * np.sin(i * np.pi * node) for node in grid]\n",
    ")\n",
    "                        for i in range(1,N)])"
   ],
   "metadata": {
    "collapsed": false,
    "ExecuteTime": {
     "end_time": "2023-05-17T10:40:11.906292479Z",
     "start_time": "2023-05-17T10:40:11.902129007Z"
    }
   }
  },
  {
   "cell_type": "code",
   "execution_count": 17,
   "outputs": [],
   "source": [
    "u_discr = lambda x, t:  np.sqrt(2) * np.sum([c_discr[i-1] * np.exp(-np.pi**2 * i**2 * t) * np.sin(i * np.pi * x) for i in range(1,N)])"
   ],
   "metadata": {
    "collapsed": false,
    "ExecuteTime": {
     "end_time": "2023-05-17T10:40:12.545238499Z",
     "start_time": "2023-05-17T10:40:12.539108965Z"
    }
   }
  },
  {
   "cell_type": "code",
   "execution_count": 18,
   "outputs": [],
   "source": [
    "uds = np.array([[u_discr(i*h,T/5*j) for i in range(6)]for j in range(6)])"
   ],
   "metadata": {
    "collapsed": false,
    "ExecuteTime": {
     "end_time": "2023-05-17T10:40:12.885201538Z",
     "start_time": "2023-05-17T10:40:12.872840150Z"
    }
   }
  },
  {
   "cell_type": "code",
   "execution_count": 19,
   "outputs": [],
   "source": [
    "uft = np.array([[u_f(i*h,T/5*j) for i in range(6)]for j in range(6)])"
   ],
   "metadata": {
    "collapsed": false,
    "ExecuteTime": {
     "end_time": "2023-05-17T10:40:13.227892131Z",
     "start_time": "2023-05-17T10:40:13.214268248Z"
    }
   }
  },
  {
   "cell_type": "code",
   "execution_count": 20,
   "outputs": [
    {
     "data": {
      "text/plain": "1.2727038496695986e-07"
     },
     "execution_count": 20,
     "metadata": {},
     "output_type": "execute_result"
    }
   ],
   "source": [
    "np.max(np.abs(uds-uft))"
   ],
   "metadata": {
    "collapsed": false,
    "ExecuteTime": {
     "end_time": "2023-05-17T10:40:13.510288265Z",
     "start_time": "2023-05-17T10:40:13.505634645Z"
    }
   }
  },
  {
   "cell_type": "code",
   "execution_count": 22,
   "outputs": [
    {
     "data": {
      "text/plain": "0.0025000000000000005"
     },
     "execution_count": 22,
     "metadata": {},
     "output_type": "execute_result"
    }
   ],
   "source": [
    "h**2"
   ],
   "metadata": {
    "collapsed": false,
    "ExecuteTime": {
     "end_time": "2023-05-17T10:40:18.511089812Z",
     "start_time": "2023-05-17T10:40:18.505153824Z"
    }
   }
  },
  {
   "cell_type": "code",
   "execution_count": 54,
   "outputs": [],
   "source": [
    "\n",
    "M = 500\n",
    "tau = T/M\n",
    "time_grid = np.linspace(0, T, M + 1)\n",
    "sigma = 0.5 - h**2/(12 * tau)\n",
    "#sigma = 1\n",
    "#sigma=0"
   ],
   "metadata": {
    "collapsed": false,
    "ExecuteTime": {
     "end_time": "2023-05-17T10:54:48.945434184Z",
     "start_time": "2023-05-17T10:54:48.902201210Z"
    }
   }
  },
  {
   "cell_type": "code",
   "execution_count": 55,
   "outputs": [
    {
     "data": {
      "text/plain": "100"
     },
     "execution_count": 55,
     "metadata": {},
     "output_type": "execute_result"
    }
   ],
   "source": [
    "T"
   ],
   "metadata": {
    "collapsed": false,
    "ExecuteTime": {
     "end_time": "2023-05-17T10:54:49.100491260Z",
     "start_time": "2023-05-17T10:54:49.057798653Z"
    }
   }
  },
  {
   "cell_type": "code",
   "execution_count": 56,
   "outputs": [
    {
     "data": {
      "text/plain": "0.2"
     },
     "execution_count": 56,
     "metadata": {},
     "output_type": "execute_result"
    }
   ],
   "source": [
    "tau"
   ],
   "metadata": {
    "collapsed": false,
    "ExecuteTime": {
     "end_time": "2023-05-17T10:54:49.268861569Z",
     "start_time": "2023-05-17T10:54:49.208991123Z"
    }
   }
  },
  {
   "cell_type": "code",
   "execution_count": 57,
   "outputs": [],
   "source": [
    "lam = np.array([\n",
    "    (1 - 4 * (1 - sigma) * tau / h**2 * (np.sin(i * np.pi * h / 2))**2) / (1 + 4 * sigma * tau / h**2 * (np.sin(i * np.pi * h/2))**2) for i in range(1, N)\n",
    "])"
   ],
   "metadata": {
    "collapsed": false,
    "ExecuteTime": {
     "end_time": "2023-05-17T10:54:49.379594911Z",
     "start_time": "2023-05-17T10:54:49.376122969Z"
    }
   }
  },
  {
   "cell_type": "code",
   "execution_count": 58,
   "outputs": [],
   "source": [
    "u_w = lambda x, t:   np.sqrt(2) *  np.sum([\n",
    "    c_discr[i -1] * (lam[i-1]**(t/tau)) * np.sin(i * np.pi *x) for i in range(1, N)\n",
    "])"
   ],
   "metadata": {
    "collapsed": false,
    "ExecuteTime": {
     "end_time": "2023-05-17T10:54:49.551189262Z",
     "start_time": "2023-05-17T10:54:49.504487473Z"
    }
   }
  },
  {
   "cell_type": "code",
   "execution_count": 59,
   "outputs": [
    {
     "data": {
      "text/plain": "-0.1486289650954786"
     },
     "execution_count": 59,
     "metadata": {},
     "output_type": "execute_result"
    }
   ],
   "source": [
    "u_w(0.8, 0)"
   ],
   "metadata": {
    "collapsed": false,
    "ExecuteTime": {
     "end_time": "2023-05-17T10:54:49.646320885Z",
     "start_time": "2023-05-17T10:54:49.643010882Z"
    }
   }
  },
  {
   "cell_type": "code",
   "execution_count": 60,
   "outputs": [
    {
     "data": {
      "text/plain": "-0.14862896509547882"
     },
     "execution_count": 60,
     "metadata": {},
     "output_type": "execute_result"
    }
   ],
   "source": [
    "phi(0.8)"
   ],
   "metadata": {
    "collapsed": false,
    "ExecuteTime": {
     "end_time": "2023-05-17T10:54:49.816612494Z",
     "start_time": "2023-05-17T10:54:49.809738036Z"
    }
   }
  },
  {
   "cell_type": "code",
   "execution_count": 61,
   "outputs": [],
   "source": [
    "from prettytable import PrettyTable\n",
    "\n",
    "\n",
    "def print_table(func):\n",
    "\n",
    "    x = PrettyTable()\n",
    "    h = 0.2\n",
    "    x.field_names = [\"x/t\", 0, 0.2, 0.4,]\n",
    "    for i in range(6):\n",
    "        if i == 0:\n",
    "            name = \"0\"\n",
    "        else:\n",
    "            name = str(i)+\"T/5\"\n",
    "\n",
    "        func_values = [func(h * j,T * i/5) for j in range(3)]\n",
    "        x.add_row([name]+func_values)\n",
    "\n",
    "    print(x)\n",
    "\n",
    "\n"
   ],
   "metadata": {
    "collapsed": false,
    "ExecuteTime": {
     "end_time": "2023-05-17T10:54:49.963001859Z",
     "start_time": "2023-05-17T10:54:49.920696930Z"
    }
   }
  },
  {
   "cell_type": "code",
   "execution_count": 62,
   "outputs": [],
   "source": [
    "from prettytable import PrettyTable\n",
    "\n",
    "\n",
    "def print_table_2(func):\n",
    "\n",
    "    x = PrettyTable()\n",
    "    h = 0.2\n",
    "    x.field_names = [\"x/t\", 0.6, 0.8, 1,]\n",
    "    for i in range(6):\n",
    "        if i == 0:\n",
    "            name = \"0\"\n",
    "        else:\n",
    "            name = str(i)+\"T/5\"\n",
    "\n",
    "        func_values = [func(h * j,T * i/5) for j in range(3,6)]\n",
    "        x.add_row([name]+func_values)\n",
    "\n",
    "    print(x)\n",
    "\n",
    "\n"
   ],
   "metadata": {
    "collapsed": false,
    "ExecuteTime": {
     "end_time": "2023-05-17T10:54:50.130469447Z",
     "start_time": "2023-05-17T10:54:50.128128104Z"
    }
   }
  },
  {
   "cell_type": "code",
   "execution_count": 63,
   "outputs": [
    {
     "name": "stdout",
     "output_type": "stream",
     "text": [
      "+------+-----+-------------------------+--------------------------+\n",
      "| x/t  |  0  |           0.2           |           0.4            |\n",
      "+------+-----+-------------------------+--------------------------+\n",
      "|  0   | 0.0 |   -0.16632935265420773  |   -0.24404198584548012   |\n",
      "| 1T/5 | 0.0 | -2.8311215065380726e-87 |  -4.580850823859411e-87  |\n",
      "| 2T/5 | 0.0 | -5.316966324321748e-173 | -8.603032229791187e-173  |\n",
      "| 3T/5 | 0.0 | -9.985488375785809e-259 | -1.6156859586288426e-258 |\n",
      "| 4T/5 | 0.0 |           0.0           |           0.0            |\n",
      "| 5T/5 | 0.0 |           0.0           |           0.0            |\n",
      "+------+-----+-------------------------+--------------------------+\n"
     ]
    }
   ],
   "source": [
    "print_table(u_discr)"
   ],
   "metadata": {
    "collapsed": false,
    "ExecuteTime": {
     "end_time": "2023-05-17T10:54:50.410699263Z",
     "start_time": "2023-05-17T10:54:50.407184956Z"
    }
   }
  },
  {
   "cell_type": "code",
   "execution_count": 64,
   "outputs": [
    {
     "name": "stdout",
     "output_type": "stream",
     "text": [
      "+------+-----+------------------------+-------------------------+\n",
      "| x/t  |  0  |          0.2           |           0.4           |\n",
      "+------+-----+------------------------+-------------------------+\n",
      "|  0   | 0.0 |  -0.16632935265420773  |   -0.24404198584548012  |\n",
      "| 1T/5 | 0.0 | -4.638692170102817e-06 |  1.9469798996321464e-06 |\n",
      "| 2T/5 | 0.0 | -3.430669984011545e-06 | -1.7792609762864992e-07 |\n",
      "| 3T/5 | 0.0 | -2.865167306219166e-08 | -1.2599643614728109e-08 |\n",
      "| 4T/5 | 0.0 | 3.8597344088129796e-07 |  1.4228153621304405e-08 |\n",
      "| 5T/5 | 0.0 | 2.5944411519486903e-07 |  3.0486092688728065e-09 |\n",
      "+------+-----+------------------------+-------------------------+\n"
     ]
    }
   ],
   "source": [
    "print_table(u_w)"
   ],
   "metadata": {
    "collapsed": false,
    "ExecuteTime": {
     "end_time": "2023-05-17T10:54:50.587520082Z",
     "start_time": "2023-05-17T10:54:50.542130040Z"
    }
   }
  },
  {
   "cell_type": "code",
   "execution_count": 65,
   "outputs": [
    {
     "name": "stdout",
     "output_type": "stream",
     "text": [
      "+------+-----+-------------------------+--------------------------+\n",
      "| x/t  |  0  |           0.2           |           0.4            |\n",
      "+------+-----+-------------------------+--------------------------+\n",
      "|  0   | 0.0 |   -0.16632928789133963  |   -0.2440419510397135    |\n",
      "| 1T/5 | 0.0 | -2.8311271933393616e-87 | -4.5808600252971835e-87  |\n",
      "| 2T/5 | 0.0 |  -5.31697700437588e-173 | -8.603049510481777e-173  |\n",
      "| 3T/5 | 0.0 | -9.985508433380664e-259 | -1.6156892040158634e-258 |\n",
      "| 4T/5 | 0.0 |           0.0           |           0.0            |\n",
      "| 5T/5 | 0.0 |           0.0           |           0.0            |\n",
      "+------+-----+-------------------------+--------------------------+\n"
     ]
    }
   ],
   "source": [
    "print_table(u_f)"
   ],
   "metadata": {
    "collapsed": false,
    "ExecuteTime": {
     "end_time": "2023-05-17T10:54:50.695372416Z",
     "start_time": "2023-05-17T10:54:50.654486591Z"
    }
   }
  },
  {
   "cell_type": "code",
   "execution_count": 66,
   "outputs": [
    {
     "name": "stdout",
     "output_type": "stream",
     "text": [
      "+------+--------------------------+-------------------------+--------------------------+\n",
      "| x/t  |           0.6            |           0.8           |            1             |\n",
      "+------+--------------------------+-------------------------+--------------------------+\n",
      "|  0   |   -0.23511410091698928   |   -0.1486289650954786   |  -3.358159178469197e-17  |\n",
      "| 1T/5 |  -4.580850823859411e-87  | -2.8311215065380735e-87 | -5.898623481036055e-103  |\n",
      "| 2T/5 | -8.603032229791187e-173  | -5.316966324321749e-173 | -1.1077865197976965e-188 |\n",
      "| 3T/5 | -1.6156859586288426e-258 | -9.985488375785811e-259 | -2.0804700916933485e-274 |\n",
      "| 4T/5 |           0.0            |           0.0           |           0.0            |\n",
      "| 5T/5 |           0.0            |           0.0           |           0.0            |\n",
      "+------+--------------------------+-------------------------+--------------------------+\n"
     ]
    }
   ],
   "source": [
    "print_table_2(u_discr)"
   ],
   "metadata": {
    "collapsed": false,
    "ExecuteTime": {
     "end_time": "2023-05-17T10:54:51.007839065Z",
     "start_time": "2023-05-17T10:54:51.004802719Z"
    }
   }
  },
  {
   "cell_type": "code",
   "execution_count": 67,
   "outputs": [
    {
     "name": "stdout",
     "output_type": "stream",
     "text": [
      "+------+------------------------+-------------------------+-------------------------+\n",
      "| x/t  |          0.6           |           0.8           |            1            |\n",
      "+------+------------------------+-------------------------+-------------------------+\n",
      "|  0   |  -0.23511410091698928  |   -0.1486289650954786   |  -3.358159178469197e-17 |\n",
      "| 1T/5 | 7.155445158771607e-07  | -2.2735184095285487e-06 | -1.5385223774054673e-19 |\n",
      "| 2T/5 | -7.631784596753061e-08 | -1.7156470221903607e-06 |  -3.265617626298545e-20 |\n",
      "| 3T/5 | -8.619967622258648e-09 | -1.4301876604204372e-08 |  -8.967930786951411e-21 |\n",
      "| 4T/5 | 7.405971990553038e-09  |  1.9296388559507446e-07 |  -2.915234747307254e-21 |\n",
      "| 5T/5 | 1.6350304096602141e-09 |  1.2972970024583187e-07 | -1.0413323743988415e-21 |\n",
      "+------+------------------------+-------------------------+-------------------------+\n"
     ]
    }
   ],
   "source": [
    "print_table_2(u_w)"
   ],
   "metadata": {
    "collapsed": false,
    "ExecuteTime": {
     "end_time": "2023-05-17T10:54:51.160013189Z",
     "start_time": "2023-05-17T10:54:51.154375312Z"
    }
   }
  },
  {
   "cell_type": "code",
   "execution_count": 68,
   "outputs": [
    {
     "name": "stdout",
     "output_type": "stream",
     "text": [
      "+------+--------------------------+-------------------------+--------------------------+\n",
      "| x/t  |           0.6            |           0.8           |            1             |\n",
      "+------+--------------------------+-------------------------+--------------------------+\n",
      "|  0   |   -0.2351140726104191    |   -0.14862892783749307  |  -3.403299336293457e-17  |\n",
      "| 1T/5 | -4.5808600252971835e-87  | -2.8311271933393625e-87 | -5.898635329450027e-103  |\n",
      "| 2T/5 | -8.603049510481777e-173  | -5.316977004375882e-173 | -1.1077887449801177e-188 |\n",
      "| 3T/5 | -1.6156892040158634e-258 | -9.985508433380667e-259 | -2.0804742706803583e-274 |\n",
      "| 4T/5 |           0.0            |           0.0           |           0.0            |\n",
      "| 5T/5 |           0.0            |           0.0           |           0.0            |\n",
      "+------+--------------------------+-------------------------+--------------------------+\n"
     ]
    }
   ],
   "source": [
    "print_table_2(u_f)"
   ],
   "metadata": {
    "collapsed": false,
    "ExecuteTime": {
     "end_time": "2023-05-17T10:54:51.816838558Z",
     "start_time": "2023-05-17T10:54:51.794417963Z"
    }
   }
  },
  {
   "cell_type": "code",
   "execution_count": 69,
   "outputs": [
    {
     "name": "stdout",
     "output_type": "stream",
     "text": [
      "True\n"
     ]
    }
   ],
   "source": [
    "\n",
    "if sigma >=0.5:\n",
    "    print(True)\n",
    "\n",
    "elif sigma ==0:\n",
    "    print(tau/(h**2)<=0.5)\n",
    "else:\n",
    "    print(tau <= h**2/(2*(1-2*sigma)))\n",
    "\n",
    "\n",
    "\n"
   ],
   "metadata": {
    "collapsed": false,
    "ExecuteTime": {
     "end_time": "2023-05-17T10:54:52.203118461Z",
     "start_time": "2023-05-17T10:54:52.199103159Z"
    }
   }
  },
  {
   "cell_type": "code",
   "execution_count": null,
   "outputs": [],
   "source": [],
   "metadata": {
    "collapsed": false
   }
  }
 ],
 "metadata": {
  "kernelspec": {
   "display_name": "Python 3",
   "language": "python",
   "name": "python3"
  },
  "language_info": {
   "codemirror_mode": {
    "name": "ipython",
    "version": 2
   },
   "file_extension": ".py",
   "mimetype": "text/x-python",
   "name": "python",
   "nbconvert_exporter": "python",
   "pygments_lexer": "ipython2",
   "version": "2.7.6"
  }
 },
 "nbformat": 4,
 "nbformat_minor": 0
}
