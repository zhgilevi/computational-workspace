{
 "cells": [
  {
   "cell_type": "code",
   "execution_count": 54,
   "metadata": {
    "collapsed": true,
    "ExecuteTime": {
     "end_time": "2023-05-09T12:57:54.278149147Z",
     "start_time": "2023-05-09T12:57:54.259333030Z"
    }
   },
   "outputs": [],
   "source": [
    "import numpy as np\n",
    "from scipy.integrate import quad\n",
    "import matplotlib.pyplot as plt\n",
    "from scipy.optimize import fmin"
   ]
  },
  {
   "cell_type": "markdown",
   "source": [
    "<img src=\"img_1.png\">"
   ],
   "metadata": {
    "collapsed": false
   }
  },
  {
   "cell_type": "code",
   "execution_count": 3,
   "outputs": [],
   "source": [
    "alpha_1 = lambda x: x*0.5\n",
    "alpha_2 = lambda x: -x**3/3*0.5\n",
    "alpha_3 = lambda x: 2*x**5/15*0.5\n",
    "alpha_4 = lambda x: -17*x**7/315*0.5\n",
    "alpha = [alpha_1, alpha_2, alpha_3, alpha_4]\n",
    "\n",
    "\n",
    "beta_1 = lambda y: y\n",
    "beta_2 = lambda y: y**3\n",
    "beta_3 = lambda y: y**5\n",
    "beta_4 = lambda y: y**7\n",
    "beta = [beta_1, beta_2, beta_3, beta_4]\n",
    "\n",
    "h = lambda x,y: 0.5*np.tanh(x*y)\n",
    "f = lambda x: x-0.5\n",
    "h_taylor_3 = lambda x,y : np.sum([alpha[i](x) * beta[i](y) for i in range(3)])\n",
    "h_taylor_4 = lambda x,y : np.sum([alpha[i](x) * beta[i](y) for i in range(4)])"
   ],
   "metadata": {
    "collapsed": false,
    "ExecuteTime": {
     "end_time": "2023-05-09T12:34:29.728024836Z",
     "start_time": "2023-05-09T12:34:29.726235134Z"
    }
   }
  },
  {
   "cell_type": "code",
   "execution_count": 4,
   "outputs": [],
   "source": [
    "b = np.array([quad(lambda x:beta[i](x)*f(x),0,1)[0] for i in range(3)])\n",
    "b_4 = np.array([quad(lambda x:beta[i](x)*f(x),0,1)[0] for i in range(4)])"
   ],
   "metadata": {
    "collapsed": false,
    "ExecuteTime": {
     "end_time": "2023-05-09T12:35:43.069708368Z",
     "start_time": "2023-05-09T12:35:43.065303151Z"
    }
   }
  },
  {
   "cell_type": "code",
   "execution_count": 5,
   "outputs": [
    {
     "data": {
      "text/plain": "array([0.08333333, 0.075     , 0.05952381])"
     },
     "execution_count": 5,
     "metadata": {},
     "output_type": "execute_result"
    }
   ],
   "source": [
    "b"
   ],
   "metadata": {
    "collapsed": false,
    "ExecuteTime": {
     "end_time": "2023-05-09T12:35:43.806448610Z",
     "start_time": "2023-05-09T12:35:43.782034118Z"
    }
   }
  },
  {
   "cell_type": "code",
   "execution_count": 6,
   "outputs": [],
   "source": [
    "gamma = np.array([[quad(lambda x: beta[i](x)*alpha[j](x),0,1)[0] for j in range(3)] for i in range(3)])\n",
    "\n",
    "gamma_4 =  np.array([[quad(lambda x: beta[i](x)*alpha[j](x),0,1)[0] for j in range(4)] for i in range(4)])"
   ],
   "metadata": {
    "collapsed": false,
    "ExecuteTime": {
     "end_time": "2023-05-09T12:35:45.432232267Z",
     "start_time": "2023-05-09T12:35:45.428614369Z"
    }
   }
  },
  {
   "cell_type": "code",
   "execution_count": 7,
   "outputs": [
    {
     "data": {
      "text/plain": "array([[ 0.16666667, -0.03333333,  0.00952381],\n       [ 0.1       , -0.02380952,  0.00740741],\n       [ 0.07142857, -0.01851852,  0.00606061]])"
     },
     "execution_count": 7,
     "metadata": {},
     "output_type": "execute_result"
    }
   ],
   "source": [
    "gamma"
   ],
   "metadata": {
    "collapsed": false,
    "ExecuteTime": {
     "end_time": "2023-05-09T12:35:46.149608273Z",
     "start_time": "2023-05-09T12:35:46.144150092Z"
    }
   }
  },
  {
   "cell_type": "code",
   "execution_count": 8,
   "outputs": [],
   "source": [
    "a = np.array([[(i == j) - gamma[i][j] for j in range(3)] for i in range(3)])\n",
    "\n",
    "a_4 = np.array([[(i == j) - gamma_4[i][j] for j in range(4)] for i in range(4)])"
   ],
   "metadata": {
    "collapsed": false,
    "ExecuteTime": {
     "end_time": "2023-05-09T12:35:47.093295736Z",
     "start_time": "2023-05-09T12:35:47.088733363Z"
    }
   }
  },
  {
   "cell_type": "code",
   "execution_count": 9,
   "outputs": [
    {
     "data": {
      "text/plain": "array([[ 0.83333333,  0.03333333, -0.00952381],\n       [-0.1       ,  1.02380952, -0.00740741],\n       [-0.07142857,  0.01851852,  0.99393939]])"
     },
     "execution_count": 9,
     "metadata": {},
     "output_type": "execute_result"
    }
   ],
   "source": [
    "a"
   ],
   "metadata": {
    "collapsed": false,
    "ExecuteTime": {
     "end_time": "2023-05-09T12:35:47.818415615Z",
     "start_time": "2023-05-09T12:35:47.806653323Z"
    }
   }
  },
  {
   "cell_type": "code",
   "execution_count": 10,
   "outputs": [],
   "source": [
    "c = np.linalg.solve(a, b)\n",
    "c_4 = np.linalg.solve(a_4, b_4)"
   ],
   "metadata": {
    "collapsed": false,
    "ExecuteTime": {
     "end_time": "2023-05-09T12:35:48.275821951Z",
     "start_time": "2023-05-09T12:35:48.271754872Z"
    }
   }
  },
  {
   "cell_type": "code",
   "execution_count": 11,
   "outputs": [
    {
     "data": {
      "text/plain": "array([0.09741696, 0.08324368, 0.06533659])"
     },
     "execution_count": 11,
     "metadata": {},
     "output_type": "execute_result"
    }
   ],
   "source": [
    "c"
   ],
   "metadata": {
    "collapsed": false,
    "ExecuteTime": {
     "end_time": "2023-05-09T12:35:48.810426480Z",
     "start_time": "2023-05-09T12:35:48.806548474Z"
    }
   }
  },
  {
   "cell_type": "code",
   "execution_count": 13,
   "outputs": [
    {
     "data": {
      "text/plain": "array([0.09723075, 0.08309764, 0.06521526, 0.05299287])"
     },
     "execution_count": 13,
     "metadata": {},
     "output_type": "execute_result"
    }
   ],
   "source": [
    "c_4"
   ],
   "metadata": {
    "collapsed": false,
    "ExecuteTime": {
     "end_time": "2023-05-09T12:35:53.369979455Z",
     "start_time": "2023-05-09T12:35:53.354625527Z"
    }
   }
  },
  {
   "cell_type": "code",
   "execution_count": 14,
   "outputs": [],
   "source": [
    "u_3 = lambda x: f(x) + sum([c[i] * alpha[i](x) for i in range(3)])\n",
    "#u_3 = lambda x: f(x) + quad(lambda y: resolv_3(x,y)*f(y),0,1)[0]\n",
    "\n",
    "\n",
    "u_4 = lambda x: f(x) + sum([c_4[i] * alpha[i](x) for i in range(4)])"
   ],
   "metadata": {
    "collapsed": false,
    "ExecuteTime": {
     "end_time": "2023-05-09T12:35:54.113825712Z",
     "start_time": "2023-05-09T12:35:54.110691152Z"
    }
   }
  },
  {
   "cell_type": "code",
   "execution_count": 47,
   "outputs": [
    {
     "name": "stdout",
     "output_type": "stream",
     "text": [
      "-0.5 0.022756113808719836 0.5391903049374953\n"
     ]
    }
   ],
   "source": [
    "print(u_3(0),u_3(0.5),u_3(1))"
   ],
   "metadata": {
    "collapsed": false,
    "ExecuteTime": {
     "end_time": "2023-05-09T12:43:11.729158454Z",
     "start_time": "2023-05-09T12:43:11.676491541Z"
    }
   }
  },
  {
   "cell_type": "code",
   "execution_count": 48,
   "outputs": [
    {
     "name": "stdout",
     "output_type": "stream",
     "text": [
      "-0.5 0.02270118010711082 0.5376834862701934\n"
     ]
    }
   ],
   "source": [
    "print(u_4(0),u_4(0.5),u_4(1))"
   ],
   "metadata": {
    "collapsed": false,
    "ExecuteTime": {
     "end_time": "2023-05-09T12:43:24.791687682Z",
     "start_time": "2023-05-09T12:43:24.785701009Z"
    }
   }
  },
  {
   "cell_type": "code",
   "execution_count": 50,
   "outputs": [
    {
     "data": {
      "text/plain": "0.0015068186673019568"
     },
     "execution_count": 50,
     "metadata": {},
     "output_type": "execute_result"
    }
   ],
   "source": [
    "delta = max([abs(u_3(0)-u_4(0)),abs(u_3(0.5)-u_4(0.5)),abs(u_3(1)-u_4(1))])\n",
    "delta"
   ],
   "metadata": {
    "collapsed": false,
    "ExecuteTime": {
     "end_time": "2023-05-09T12:44:42.519795681Z",
     "start_time": "2023-05-09T12:44:42.515146103Z"
    }
   }
  },
  {
   "cell_type": "code",
   "execution_count": 57,
   "outputs": [],
   "source": [
    "norm = lambda x: -abs(u_3(x)-u_4(x)) if (x >= 0 and x<=1) else 0"
   ],
   "metadata": {
    "collapsed": false,
    "ExecuteTime": {
     "end_time": "2023-05-09T12:58:56.335576608Z",
     "start_time": "2023-05-09T12:58:56.290665331Z"
    }
   }
  },
  {
   "cell_type": "code",
   "execution_count": 62,
   "outputs": [
    {
     "name": "stdout",
     "output_type": "stream",
     "text": [
      "Optimization terminated successfully.\n",
      "         Current function value: -0.001506\n",
      "         Iterations: 29\n",
      "         Function evaluations: 58\n"
     ]
    },
    {
     "data": {
      "text/plain": "array([0.999875])"
     },
     "execution_count": 62,
     "metadata": {},
     "output_type": "execute_result"
    }
   ],
   "source": [
    "fmin(norm,0)"
   ],
   "metadata": {
    "collapsed": false,
    "ExecuteTime": {
     "end_time": "2023-05-09T12:59:10.144802106Z",
     "start_time": "2023-05-09T12:59:10.134856443Z"
    }
   }
  },
  {
   "cell_type": "code",
   "execution_count": null,
   "outputs": [],
   "source": [],
   "metadata": {
    "collapsed": false
   }
  },
  {
   "cell_type": "code",
   "execution_count": 63,
   "outputs": [],
   "source": [
    "d = np.linalg.inv(a)"
   ],
   "metadata": {
    "collapsed": false,
    "ExecuteTime": {
     "end_time": "2023-05-09T13:02:58.336666822Z",
     "start_time": "2023-05-09T13:02:58.333460342Z"
    }
   }
  },
  {
   "cell_type": "code",
   "execution_count": 67,
   "outputs": [],
   "source": [
    "g = lambda x,y :abs(np.sum([np.sum([d[i][j] * alpha[i](x)*beta[j](y) for j in range(3)]) for i in range(3)]))"
   ],
   "metadata": {
    "collapsed": false,
    "ExecuteTime": {
     "end_time": "2023-05-09T13:04:42.556269447Z",
     "start_time": "2023-05-09T13:04:42.552909327Z"
    }
   }
  },
  {
   "cell_type": "code",
   "execution_count": 68,
   "outputs": [
    {
     "data": {
      "text/plain": "0.0"
     },
     "execution_count": 68,
     "metadata": {},
     "output_type": "execute_result"
    }
   ],
   "source": [
    "g(0,1)"
   ],
   "metadata": {
    "collapsed": false,
    "ExecuteTime": {
     "end_time": "2023-05-09T13:04:42.974529834Z",
     "start_time": "2023-05-09T13:04:42.968720777Z"
    }
   }
  },
  {
   "cell_type": "code",
   "execution_count": 74,
   "outputs": [],
   "source": [
    "m = lambda x: quad(lambda y: g(x,y),0 ,1)[0]"
   ],
   "metadata": {
    "collapsed": false,
    "ExecuteTime": {
     "end_time": "2023-05-09T13:14:23.120133553Z",
     "start_time": "2023-05-09T13:14:23.109932099Z"
    }
   }
  },
  {
   "cell_type": "code",
   "execution_count": 75,
   "outputs": [
    {
     "data": {
      "text/plain": "[<matplotlib.lines.Line2D at 0x7f3c07b5d990>]"
     },
     "execution_count": 75,
     "metadata": {},
     "output_type": "execute_result"
    },
    {
     "data": {
      "text/plain": "<Figure size 640x480 with 1 Axes>",
      "image/png": "[encoded data removed]"
     },
     "metadata": {},
     "output_type": "display_data"
    }
   ],
   "source": [
    "t = np.linspace(0, 1, 1000)\n",
    "val = [m(i) for i in t]\n",
    "plt.plot(t, val)"
   ],
   "metadata": {
    "collapsed": false,
    "ExecuteTime": {
     "end_time": "2023-05-09T13:14:32.141637215Z",
     "start_time": "2023-05-09T13:14:31.381802623Z"
    }
   }
  },
  {
   "cell_type": "code",
   "execution_count": 76,
   "outputs": [
    {
     "data": {
      "text/plain": "0.2581795735481403"
     },
     "execution_count": 76,
     "metadata": {},
     "output_type": "execute_result"
    }
   ],
   "source": [
    "val[-1]"
   ],
   "metadata": {
    "collapsed": false,
    "ExecuteTime": {
     "end_time": "2023-05-09T13:14:37.962868258Z",
     "start_time": "2023-05-09T13:14:37.956569362Z"
    }
   }
  },
  {
   "cell_type": "code",
   "execution_count": 82,
   "outputs": [],
   "source": [
    "B = 0.3"
   ],
   "metadata": {
    "collapsed": false,
    "ExecuteTime": {
     "end_time": "2023-05-09T13:25:46.593309668Z",
     "start_time": "2023-05-09T13:25:46.585283355Z"
    }
   }
  },
  {
   "cell_type": "code",
   "execution_count": 89,
   "outputs": [],
   "source": [
    "m_2 = lambda x,y: abs(h_taylor_3(x,y)-h(x,y))"
   ],
   "metadata": {
    "collapsed": false,
    "ExecuteTime": {
     "end_time": "2023-05-09T13:40:33.713774938Z",
     "start_time": "2023-05-09T13:40:33.672232750Z"
    }
   }
  },
  {
   "cell_type": "code",
   "execution_count": 90,
   "outputs": [],
   "source": [
    "m_3 = lambda x: quad(lambda y: m_2(x,y),0 ,1)[0]"
   ],
   "metadata": {
    "collapsed": false,
    "ExecuteTime": {
     "end_time": "2023-05-09T13:40:35.535042610Z",
     "start_time": "2023-05-09T13:40:35.527614629Z"
    }
   }
  },
  {
   "cell_type": "code",
   "execution_count": 91,
   "outputs": [
    {
     "data": {
      "text/plain": "[<matplotlib.lines.Line2D at 0x7f3c5ded9db0>]"
     },
     "execution_count": 91,
     "metadata": {},
     "output_type": "execute_result"
    },
    {
     "data": {
      "text/plain": "<Figure size 640x480 with 1 Axes>",
      "image/png": "[encoded data removed]"
     },
     "metadata": {},
     "output_type": "display_data"
    }
   ],
   "source": [
    "t = np.linspace(0, 1, 1000)\n",
    "val = [m_3(i) for i in t]\n",
    "plt.plot(t, val)"
   ],
   "metadata": {
    "collapsed": false,
    "ExecuteTime": {
     "end_time": "2023-05-09T13:40:36.412367682Z",
     "start_time": "2023-05-09T13:40:36.043014362Z"
    }
   }
  },
  {
   "cell_type": "code",
   "execution_count": 92,
   "outputs": [
    {
     "data": {
      "text/plain": "0.0025540292029308555"
     },
     "execution_count": 92,
     "metadata": {},
     "output_type": "execute_result"
    }
   ],
   "source": [
    "val[-1]"
   ],
   "metadata": {
    "collapsed": false,
    "ExecuteTime": {
     "end_time": "2023-05-09T13:40:38.242761647Z",
     "start_time": "2023-05-09T13:40:38.234904233Z"
    }
   }
  },
  {
   "cell_type": "code",
   "execution_count": 95,
   "outputs": [],
   "source": [
    "ETA = 0.003"
   ],
   "metadata": {
    "collapsed": false,
    "ExecuteTime": {
     "end_time": "2023-05-09T13:40:48.746742317Z",
     "start_time": "2023-05-09T13:40:48.740404037Z"
    }
   }
  },
  {
   "cell_type": "code",
   "execution_count": 2,
   "outputs": [
    {
     "ename": "NameError",
     "evalue": "name 'B' is not defined",
     "output_type": "error",
     "traceback": [
      "\u001B[0;31m---------------------------------------------------------------------------\u001B[0m",
      "\u001B[0;31mNameError\u001B[0m                                 Traceback (most recent call last)",
      "Cell \u001B[0;32mIn[2], line 1\u001B[0m\n\u001B[0;32m----> 1\u001B[0m (\u001B[38;5;241m1\u001B[39m\u001B[38;5;241m+\u001B[39m\u001B[43mB\u001B[49m)\u001B[38;5;241m*\u001B[39mETA\u001B[38;5;241m/\u001B[39m((\u001B[38;5;241m1\u001B[39m\u001B[38;5;241m-\u001B[39m(\u001B[38;5;241m1\u001B[39m\u001B[38;5;241m+\u001B[39mB)\u001B[38;5;241m*\u001B[39mETA))\n",
      "\u001B[0;31mNameError\u001B[0m: name 'B' is not defined"
     ]
    }
   ],
   "source": [
    "(1+B)*ETA/((1-(1+B)*ETA))"
   ],
   "metadata": {
    "collapsed": false,
    "ExecuteTime": {
     "end_time": "2023-05-10T11:09:57.258993197Z",
     "start_time": "2023-05-10T11:09:57.210842607Z"
    }
   }
  },
  {
   "cell_type": "code",
   "execution_count": 87,
   "outputs": [],
   "source": [
    "dif = lambda x: u_4(x)-u_3(x)"
   ],
   "metadata": {
    "collapsed": false,
    "ExecuteTime": {
     "end_time": "2023-05-09T13:31:22.583313939Z",
     "start_time": "2023-05-09T13:31:22.577585312Z"
    }
   }
  },
  {
   "cell_type": "code",
   "execution_count": 88,
   "outputs": [
    {
     "data": {
      "text/plain": "[<matplotlib.lines.Line2D at 0x7f3c5de8f1f0>]"
     },
     "execution_count": 88,
     "metadata": {},
     "output_type": "execute_result"
    },
    {
     "data": {
      "text/plain": "<Figure size 640x480 with 1 Axes>",
      "image/png": "[encoded data removed]"
     },
     "metadata": {},
     "output_type": "display_data"
    }
   ],
   "source": [
    "val = [dif(i) for i in t]\n",
    "plt.plot(t,val)"
   ],
   "metadata": {
    "collapsed": false,
    "ExecuteTime": {
     "end_time": "2023-05-09T13:31:39.082073925Z",
     "start_time": "2023-05-09T13:31:38.959420314Z"
    }
   }
  },
  {
   "cell_type": "code",
   "execution_count": null,
   "outputs": [],
   "source": [],
   "metadata": {
    "collapsed": false
   }
  },
  {
   "cell_type": "code",
   "execution_count": 114,
   "outputs": [],
   "source": [
    "m = 1000\n",
    "def get_grid(m):\n",
    "    return np.linspace(0, 1, 2 * m + 1)\n",
    "\n",
    "coef = lambda x:  2 / 3 if x % 2  else 1 / 6\n",
    "dif = 100\n",
    "u_old = None\n",
    "eps = 0.000000001"
   ],
   "metadata": {
    "collapsed": false,
    "ExecuteTime": {
     "end_time": "2023-05-09T13:59:49.655716508Z",
     "start_time": "2023-05-09T13:59:49.647984134Z"
    }
   }
  },
  {
   "cell_type": "code",
   "execution_count": 115,
   "outputs": [],
   "source": [
    "while dif > eps:\n",
    "    grid = get_grid(m)\n",
    "    gamma_d = np.array([[coef(j)*h(grid[i], grid[j] ) for j in range (len(grid))] for i in range(len(grid))])\n",
    "    d = np.array([[ (i == j) - gamma_d[i][j] for j in range(len(gamma_d))] for i in range(len(gamma_d))] )\n",
    "    g = np.array([f(node) for node in grid])\n",
    "    c_q = np.linalg.solve(d,g)\n",
    "    u_q = lambda x: sum(np.array([coef(i) * h(x, grid[i])*c_q[i] for i in range(len(c_q))]))+f(x)\n",
    "\n",
    "    if u_old is not None:\n",
    "        dif = max([abs(u_q(0) - u_old(0)),abs(u_q(0.5) - u_old(0.5)),abs(u_q(1) - u_old(1))])\n",
    "    u_old = u_q\n",
    "    m*=2"
   ],
   "metadata": {
    "collapsed": false,
    "ExecuteTime": {
     "end_time": "2023-05-09T14:00:19.741605606Z",
     "start_time": "2023-05-09T13:59:52.492775109Z"
    }
   }
  },
  {
   "cell_type": "code",
   "execution_count": 116,
   "outputs": [
    {
     "data": {
      "text/plain": "4000"
     },
     "execution_count": 116,
     "metadata": {},
     "output_type": "execute_result"
    }
   ],
   "source": [
    "m\n"
   ],
   "metadata": {
    "collapsed": false,
    "ExecuteTime": {
     "end_time": "2023-05-09T14:00:41.407941579Z",
     "start_time": "2023-05-09T14:00:41.362770796Z"
    }
   }
  },
  {
   "cell_type": "code",
   "execution_count": 117,
   "outputs": [
    {
     "name": "stdout",
     "output_type": "stream",
     "text": [
      "-0.5 0.042193014839095676 -0.11668098005825844\n",
      "-0.5 0.042193014839095676 -0.11668098005825844\n"
     ]
    }
   ],
   "source": [
    "print(u_q(0),u_q(0.5),u_q(1))\n",
    "print(u_old(0),u_old(0.5),u_old(1))"
   ],
   "metadata": {
    "collapsed": false,
    "ExecuteTime": {
     "end_time": "2023-05-09T14:00:55.053163977Z",
     "start_time": "2023-05-09T14:00:54.952610290Z"
    }
   }
  },
  {
   "cell_type": "code",
   "execution_count": 118,
   "outputs": [
    {
     "name": "stdout",
     "output_type": "stream",
     "text": [
      "-0.5 0.042193014839095676 -0.11668098005825844\n",
      "-0.5 0.022756113808719836 0.5391903049374953\n",
      "-0.5 0.02270118010711082 0.5376834862701934\n"
     ]
    }
   ],
   "source": [
    "print(u_q(0),u_q(0.5),u_q(1))\n",
    "print(u_3(0),u_3(0.5),u_3(1))\n",
    "print(u_4(0),u_4(0.5),u_4(1))"
   ],
   "metadata": {
    "collapsed": false,
    "ExecuteTime": {
     "end_time": "2023-05-09T14:04:04.322250697Z",
     "start_time": "2023-05-09T14:04:04.279014829Z"
    }
   }
  },
  {
   "cell_type": "code",
   "execution_count": null,
   "outputs": [],
   "source": [],
   "metadata": {
    "collapsed": false
   }
  },
  {
   "cell_type": "code",
   "execution_count": null,
   "outputs": [],
   "source": [],
   "metadata": {
    "collapsed": false
   }
  },
  {
   "cell_type": "code",
   "execution_count": null,
   "outputs": [],
   "source": [],
   "metadata": {
    "collapsed": false
   }
  },
  {
   "cell_type": "code",
   "execution_count": null,
   "outputs": [],
   "source": [],
   "metadata": {
    "collapsed": false
   }
  },
  {
   "cell_type": "code",
   "execution_count": null,
   "outputs": [],
   "source": [],
   "metadata": {
    "collapsed": false
   }
  },
  {
   "cell_type": "code",
   "execution_count": null,
   "outputs": [],
   "source": [],
   "metadata": {
    "collapsed": false
   }
  },
  {
   "cell_type": "code",
   "execution_count": null,
   "outputs": [],
   "source": [],
   "metadata": {
    "collapsed": false
   }
  },
  {
   "cell_type": "code",
   "execution_count": 24,
   "outputs": [
    {
     "data": {
      "text/plain": "array([[0.00000000e+00, 0.00000000e+00, 0.00000000e+00, ...,\n        0.00000000e+00, 0.00000000e+00, 0.00000000e+00],\n       [0.00000000e+00, 9.25925926e-09, 4.62962963e-09, ...,\n        1.38842591e-05, 5.55462958e-05, 1.38888888e-05],\n       [0.00000000e+00, 1.85185185e-08, 9.25925926e-09, ...,\n        2.77685175e-05, 1.11092588e-04, 2.77777767e-05],\n       ...,\n       [0.00000000e+00, 5.55370365e-05, 2.77685175e-05, ...,\n        6.34428398e-02, 2.53794704e-01, 6.34545107e-02],\n       [0.00000000e+00, 5.55462958e-05, 2.77731471e-05, ...,\n        6.34486760e-02, 2.53818047e-01, 6.34603459e-02],\n       [0.00000000e+00, 5.55555550e-05, 2.77777767e-05, ...,\n        6.34545107e-02, 2.53841384e-01, 6.34661797e-02]])"
     },
     "execution_count": 24,
     "metadata": {},
     "output_type": "execute_result"
    }
   ],
   "source": [
    "gamma_d"
   ],
   "metadata": {
    "collapsed": false,
    "pycharm": {
     "is_executing": true
    },
    "ExecuteTime": {
     "end_time": "2023-05-09T12:37:14.122742911Z",
     "start_time": "2023-05-09T12:37:14.112095254Z"
    }
   }
  },
  {
   "cell_type": "code",
   "execution_count": 25,
   "outputs": [
    {
     "data": {
      "text/plain": "(6001, 6001)"
     },
     "execution_count": 25,
     "metadata": {},
     "output_type": "execute_result"
    }
   ],
   "source": [
    "gamma_d.shape"
   ],
   "metadata": {
    "collapsed": false,
    "pycharm": {
     "is_executing": true
    },
    "ExecuteTime": {
     "end_time": "2023-05-09T12:37:14.123208698Z",
     "start_time": "2023-05-09T12:37:14.112582044Z"
    }
   }
  },
  {
   "cell_type": "code",
   "execution_count": null,
   "outputs": [],
   "source": [],
   "metadata": {
    "collapsed": false
   }
  },
  {
   "cell_type": "code",
   "execution_count": null,
   "outputs": [],
   "source": [],
   "metadata": {
    "collapsed": false
   }
  },
  {
   "cell_type": "code",
   "execution_count": null,
   "outputs": [],
   "source": [],
   "metadata": {
    "collapsed": false
   }
  },
  {
   "cell_type": "code",
   "execution_count": null,
   "outputs": [],
   "source": [],
   "metadata": {
    "collapsed": false
   }
  },
  {
   "cell_type": "code",
   "execution_count": null,
   "outputs": [],
   "source": [],
   "metadata": {
    "collapsed": false
   }
  },
  {
   "cell_type": "code",
   "execution_count": 34,
   "outputs": [],
   "source": [],
   "metadata": {
    "collapsed": false,
    "pycharm": {
     "is_executing": true
    },
    "ExecuteTime": {
     "end_time": "2023-05-09T12:37:56.630171773Z",
     "start_time": "2023-05-09T12:37:56.619581113Z"
    }
   }
  },
  {
   "cell_type": "code",
   "execution_count": 36,
   "outputs": [],
   "source": [],
   "metadata": {
    "collapsed": false,
    "pycharm": {
     "is_executing": true
    },
    "ExecuteTime": {
     "end_time": "2023-05-09T12:37:57.962521047Z",
     "start_time": "2023-05-09T12:37:56.640694626Z"
    }
   }
  },
  {
   "cell_type": "code",
   "execution_count": 38,
   "outputs": [],
   "source": [],
   "metadata": {
    "collapsed": false,
    "pycharm": {
     "is_executing": true
    },
    "ExecuteTime": {
     "end_time": "2023-05-09T12:37:57.978263718Z",
     "start_time": "2023-05-09T12:37:57.969588883Z"
    }
   }
  },
  {
   "cell_type": "code",
   "execution_count": 41,
   "outputs": [],
   "source": [],
   "metadata": {
    "collapsed": false,
    "pycharm": {
     "is_executing": true
    },
    "ExecuteTime": {
     "end_time": "2023-05-09T12:37:58.112745088Z",
     "start_time": "2023-05-09T12:37:58.065734836Z"
    }
   }
  },
  {
   "cell_type": "code",
   "execution_count": 119,
   "outputs": [],
   "source": [
    "u_3_plot = np.array([u_3(node) for node in grid])\n",
    "u_4_plot = np.array([u_4(node) for node in grid])\n",
    "u_q_plot = np.array([u_q(node) for node in grid])"
   ],
   "metadata": {
    "collapsed": false,
    "pycharm": {
     "is_executing": true
    },
    "ExecuteTime": {
     "end_time": "2023-05-09T14:05:30.681589045Z",
     "start_time": "2023-05-09T14:05:11.515165662Z"
    }
   }
  },
  {
   "cell_type": "code",
   "execution_count": 120,
   "outputs": [
    {
     "data": {
      "text/plain": "<matplotlib.legend.Legend at 0x7f3c07bf7f40>"
     },
     "execution_count": 120,
     "metadata": {},
     "output_type": "execute_result"
    },
    {
     "data": {
      "text/plain": "<Figure size 640x480 with 1 Axes>",
      "image/png": "[encoded data removed]"
     },
     "metadata": {},
     "output_type": "display_data"
    }
   ],
   "source": [
    "plt.plot(grid, u_3_plot, label=\"u_3\")\n",
    "plt.plot(grid, u_4_plot, label=\"u_4\")\n",
    "plt.plot(grid, u_q_plot, label=\"u_q\")\n",
    "plt.legend()"
   ],
   "metadata": {
    "collapsed": false,
    "pycharm": {
     "is_executing": true
    },
    "ExecuteTime": {
     "end_time": "2023-05-09T14:05:30.766312001Z",
     "start_time": "2023-05-09T14:05:30.681911481Z"
    }
   }
  },
  {
   "cell_type": "code",
   "execution_count": null,
   "outputs": [],
   "source": [
    "\n"
   ],
   "metadata": {
    "collapsed": false
   }
  }
 ],
 "metadata": {
  "kernelspec": {
   "display_name": "Python 3",
   "language": "python",
   "name": "python3"
  },
  "language_info": {
   "codemirror_mode": {
    "name": "ipython",
    "version": 2
   },
   "file_extension": ".py",
   "mimetype": "text/x-python",
   "name": "python",
   "nbconvert_exporter": "python",
   "pygments_lexer": "ipython2",
   "version": "2.7.6"
  }
 },
 "nbformat": 4,
 "nbformat_minor": 0
}
