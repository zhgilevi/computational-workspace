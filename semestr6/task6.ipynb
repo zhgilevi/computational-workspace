{
 "cells": [
  {
   "cell_type": "code",
   "execution_count": 1,
   "metadata": {
    "collapsed": true,
    "ExecuteTime": {
     "end_time": "2023-05-17T10:45:39.770478822Z",
     "start_time": "2023-05-17T10:45:39.742911310Z"
    }
   },
   "outputs": [],
   "source": [
    "import numpy as np"
   ]
  },
  {
   "cell_type": "markdown",
   "source": [
    "<img src=\"img_3.png\">"
   ],
   "metadata": {
    "collapsed": false
   }
  },
  {
   "cell_type": "code",
   "execution_count": 2,
   "outputs": [],
   "source": [
    "A = np.array([[-125, 123.35 ],[123.35, -123]])"
   ],
   "metadata": {
    "collapsed": false,
    "ExecuteTime": {
     "end_time": "2023-05-17T10:45:49.090848136Z",
     "start_time": "2023-05-17T10:45:49.086361150Z"
    }
   }
  },
  {
   "cell_type": "code",
   "execution_count": 3,
   "outputs": [],
   "source": [
    "h = 0.1"
   ],
   "metadata": {
    "collapsed": false,
    "ExecuteTime": {
     "end_time": "2023-05-17T10:45:49.357095167Z",
     "start_time": "2023-05-17T10:45:49.350975892Z"
    }
   }
  },
  {
   "cell_type": "code",
   "execution_count": 4,
   "outputs": [],
   "source": [
    "values, vectors = np.linalg.eig(A)"
   ],
   "metadata": {
    "collapsed": false,
    "ExecuteTime": {
     "end_time": "2023-05-17T10:45:49.646271156Z",
     "start_time": "2023-05-17T10:45:49.640452963Z"
    }
   }
  },
  {
   "cell_type": "code",
   "execution_count": 5,
   "outputs": [
    {
     "data": {
      "text/plain": "array([-247.35405344,   -0.64594656])"
     },
     "execution_count": 5,
     "metadata": {},
     "output_type": "execute_result"
    }
   ],
   "source": [
    "values"
   ],
   "metadata": {
    "collapsed": false,
    "ExecuteTime": {
     "end_time": "2023-05-17T10:45:49.849315629Z",
     "start_time": "2023-05-17T10:45:49.845499379Z"
    }
   }
  },
  {
   "cell_type": "code",
   "execution_count": 6,
   "outputs": [
    {
     "data": {
      "text/plain": "array([[-0.70996716, -0.70423478],\n       [ 0.70423478, -0.70996716]])"
     },
     "execution_count": 6,
     "metadata": {},
     "output_type": "execute_result"
    }
   ],
   "source": [
    "vectors"
   ],
   "metadata": {
    "collapsed": false,
    "ExecuteTime": {
     "end_time": "2023-05-17T10:45:50.063669103Z",
     "start_time": "2023-05-17T10:45:50.057613049Z"
    }
   }
  },
  {
   "cell_type": "code",
   "execution_count": 7,
   "outputs": [
    {
     "name": "stdout",
     "output_type": "stream",
     "text": [
      "-0.0057323822805923075 -1.414201944487911\n"
     ]
    }
   ],
   "source": [
    "c1, c2 = np.linalg.solve(vectors, np.array([1,1]))\n",
    "print(c1, c2)"
   ],
   "metadata": {
    "collapsed": false,
    "ExecuteTime": {
     "end_time": "2023-05-17T10:45:50.236352227Z",
     "start_time": "2023-05-17T10:45:50.222960571Z"
    }
   }
  },
  {
   "cell_type": "code",
   "execution_count": 8,
   "outputs": [],
   "source": [
    "y_true = lambda x: (c1 * vectors[:,0]*np.exp(values[0]*x) + c2 * vectors[:,1]*np.exp(values[1]*x)).reshape(2,1)"
   ],
   "metadata": {
    "collapsed": false,
    "ExecuteTime": {
     "end_time": "2023-05-17T10:45:50.371379789Z",
     "start_time": "2023-05-17T10:45:50.361659126Z"
    }
   }
  },
  {
   "cell_type": "code",
   "execution_count": 9,
   "outputs": [
    {
     "data": {
      "text/plain": "array([[1.],\n       [1.]])"
     },
     "execution_count": 9,
     "metadata": {},
     "output_type": "execute_result"
    }
   ],
   "source": [
    "y_true(0)"
   ],
   "metadata": {
    "collapsed": false,
    "ExecuteTime": {
     "end_time": "2023-05-17T10:45:50.584322595Z",
     "start_time": "2023-05-17T10:45:50.568097541Z"
    }
   }
  },
  {
   "cell_type": "code",
   "execution_count": 10,
   "outputs": [
    {
     "name": "stdout",
     "output_type": "stream",
     "text": [
      "[[1. 1.]]\n",
      "[[0.93363215 0.9412318 ]]\n",
      "[[0.87523101 0.88235528]]\n",
      "[[0.82048301 0.82716164]]\n",
      "[[0.76915964 0.77542051]]\n",
      "[[0.72104669 0.72691592]]\n"
     ]
    }
   ],
   "source": [
    "for i in range(0, 6):\n",
    "    print (y_true(h*i).T)"
   ],
   "metadata": {
    "collapsed": false,
    "ExecuteTime": {
     "end_time": "2023-05-17T10:45:50.759755698Z",
     "start_time": "2023-05-17T10:45:50.709932348Z"
    }
   }
  },
  {
   "cell_type": "code",
   "execution_count": 11,
   "outputs": [],
   "source": [
    "y_eu = np.array([[1],[1]])\n",
    "y_eu_true = np.array([[1],[1]])"
   ],
   "metadata": {
    "collapsed": false,
    "ExecuteTime": {
     "end_time": "2023-05-17T10:45:50.891320267Z",
     "start_time": "2023-05-17T10:45:50.847256596Z"
    }
   }
  },
  {
   "cell_type": "code",
   "execution_count": 12,
   "outputs": [],
   "source": [
    "for i in range(1, 6):\n",
    "\n",
    "    W = np.identity(2) + A*h\n",
    "    y_next = (W@y_eu[:,i-1]).reshape(2,1)\n",
    "    y_eu = np.concatenate((y_eu, y_next), 1)\n",
    "    y_eu_true = np.concatenate((y_eu_true, y_true(h*i)),1)\n"
   ],
   "metadata": {
    "collapsed": false,
    "ExecuteTime": {
     "end_time": "2023-05-17T10:45:51.024156764Z",
     "start_time": "2023-05-17T10:45:51.019494529Z"
    }
   }
  },
  {
   "cell_type": "code",
   "execution_count": 12,
   "outputs": [],
   "source": [],
   "metadata": {
    "collapsed": false,
    "ExecuteTime": {
     "end_time": "2023-05-17T10:45:51.195231915Z",
     "start_time": "2023-05-17T10:45:51.151122447Z"
    }
   }
  },
  {
   "cell_type": "code",
   "execution_count": 13,
   "outputs": [
    {
     "data": {
      "text/plain": "array([[ 1.00000000e+00,  1.00000000e+00],\n       [ 8.35000000e-01,  1.03500000e+00],\n       [ 3.16422500e+00, -1.39577500e+00],\n       [-5.36054721e+01,  5.48029729e+01],\n       [ 1.29245760e+03, -1.28049709e+03],\n       [-3.06581940e+04,  3.04120816e+04]])"
     },
     "execution_count": 13,
     "metadata": {},
     "output_type": "execute_result"
    }
   ],
   "source": [
    "y_eu.T"
   ],
   "metadata": {
    "collapsed": false,
    "ExecuteTime": {
     "end_time": "2023-05-17T10:45:51.355311734Z",
     "start_time": "2023-05-17T10:45:51.303936482Z"
    }
   }
  },
  {
   "cell_type": "code",
   "execution_count": 14,
   "outputs": [
    {
     "data": {
      "text/plain": "30658.91507663389"
     },
     "execution_count": 14,
     "metadata": {},
     "output_type": "execute_result"
    }
   ],
   "source": [
    "np.max(abs(y_eu-y_eu_true))"
   ],
   "metadata": {
    "collapsed": false,
    "ExecuteTime": {
     "end_time": "2023-05-17T10:45:51.510521548Z",
     "start_time": "2023-05-17T10:45:51.499018578Z"
    }
   }
  },
  {
   "cell_type": "code",
   "execution_count": 15,
   "outputs": [],
   "source": [
    "y_inv = np.array([[1],[1]])\n",
    "y_inv_true = np.array([[1],[1]])"
   ],
   "metadata": {
    "collapsed": false,
    "ExecuteTime": {
     "end_time": "2023-05-17T10:45:51.615065529Z",
     "start_time": "2023-05-17T10:45:51.610799780Z"
    }
   }
  },
  {
   "cell_type": "code",
   "execution_count": 16,
   "outputs": [],
   "source": [
    "for i in range(1, 6):\n",
    "    W = np.linalg.inv((np.identity(2) - A*h))\n",
    "    y_next = (W@y_inv[:,i-1]).reshape(2,1)\n",
    "    y_inv = np.concatenate((y_inv, y_next), 1)\n",
    "    y_inv_true = np.concatenate((y_inv_true, y_true(h*i)),1)"
   ],
   "metadata": {
    "collapsed": false,
    "ExecuteTime": {
     "end_time": "2023-05-17T10:45:51.794050526Z",
     "start_time": "2023-05-17T10:45:51.790899204Z"
    }
   }
  },
  {
   "cell_type": "code",
   "execution_count": 17,
   "outputs": [
    {
     "data": {
      "text/plain": "array([[1.        , 1.        ],\n       [0.93565992, 0.94295978],\n       [0.87874603, 0.88588662],\n       [0.82542227, 0.83214062],\n       [0.77533927, 0.78165041],\n       [0.72829527, 0.7342235 ]])"
     },
     "execution_count": 17,
     "metadata": {},
     "output_type": "execute_result"
    }
   ],
   "source": [
    "y_inv.T"
   ],
   "metadata": {
    "collapsed": false,
    "ExecuteTime": {
     "end_time": "2023-05-17T10:45:51.960127439Z",
     "start_time": "2023-05-17T10:45:51.953822036Z"
    }
   }
  },
  {
   "cell_type": "code",
   "execution_count": 18,
   "outputs": [
    {
     "data": {
      "text/plain": "0.007307586392413912"
     },
     "execution_count": 18,
     "metadata": {},
     "output_type": "execute_result"
    }
   ],
   "source": [
    "np.max(abs(y_inv - y_inv_true))"
   ],
   "metadata": {
    "collapsed": false,
    "ExecuteTime": {
     "end_time": "2023-05-17T10:45:52.277079536Z",
     "start_time": "2023-05-17T10:45:52.270560336Z"
    }
   }
  },
  {
   "cell_type": "code",
   "execution_count": 19,
   "outputs": [],
   "source": [
    "y_inter_3 = np.array([[1],[1]])\n",
    "y_inter_3_true = np.array([[1],[1]])\n",
    "W = np.linalg.inv((np.identity(2) - A*h))\n",
    "y_next = (W@y_inter_3[:,0]).reshape(2,1)\n",
    "y_inter_3 = np.concatenate((y_inter_3, y_next), 1)\n",
    "y_inter_3_true = np.concatenate((y_inter_3_true, y_true(h)),1)"
   ],
   "metadata": {
    "collapsed": false,
    "ExecuteTime": {
     "end_time": "2023-05-17T10:45:52.441427831Z",
     "start_time": "2023-05-17T10:45:52.436959557Z"
    }
   }
  },
  {
   "cell_type": "code",
   "execution_count": 20,
   "outputs": [],
   "source": [
    "for i in range(2, 6):\n",
    "    W_0 = (np.identity(2)+2/3*h*A)@np.linalg.inv((np.identity(2)-5/12*h*A))\n",
    "    W_1 = (h/12*A)@np.linalg.inv((np.identity(2)-5/12*h*A))\n",
    "    y_next = (W_0@y_inter_3[:,i-1] - W_1@y_inter_3[:,i-2]).reshape(2,1)\n",
    "    y_inter_3 = np.concatenate((y_inter_3, y_next), 1)\n",
    "    y_inter_3_true = np.concatenate((y_inter_3_true, y_true(h*i)),1)"
   ],
   "metadata": {
    "collapsed": false,
    "ExecuteTime": {
     "end_time": "2023-05-17T10:45:52.593132631Z",
     "start_time": "2023-05-17T10:45:52.582639669Z"
    }
   }
  },
  {
   "cell_type": "code",
   "execution_count": 21,
   "outputs": [
    {
     "data": {
      "text/plain": "array([[1.        , 1.        ],\n       [0.93565992, 0.94295978],\n       [0.8774992 , 0.88359128],\n       [0.82142667, 0.82949476],\n       [0.77173479, 0.77593197],\n       [0.72093027, 0.72990651]])"
     },
     "execution_count": 21,
     "metadata": {},
     "output_type": "execute_result"
    }
   ],
   "source": [
    "y_inter_3.T"
   ],
   "metadata": {
    "collapsed": false,
    "ExecuteTime": {
     "end_time": "2023-05-17T10:45:52.786359049Z",
     "start_time": "2023-05-17T10:45:52.782670593Z"
    }
   }
  },
  {
   "cell_type": "code",
   "execution_count": 22,
   "outputs": [
    {
     "data": {
      "text/plain": "0.002990595088570802"
     },
     "execution_count": 22,
     "metadata": {},
     "output_type": "execute_result"
    }
   ],
   "source": [
    "np.max(abs(y_inter_3-y_inter_3_true))"
   ],
   "metadata": {
    "collapsed": false,
    "ExecuteTime": {
     "end_time": "2023-05-17T10:45:53.019825481Z",
     "start_time": "2023-05-17T10:45:52.977636027Z"
    }
   }
  },
  {
   "cell_type": "code",
   "execution_count": 23,
   "outputs": [
    {
     "data": {
      "text/plain": "0.024256728024322063"
     },
     "execution_count": 23,
     "metadata": {},
     "output_type": "execute_result"
    }
   ],
   "source": [
    "6/ max(abs(values))"
   ],
   "metadata": {
    "collapsed": false,
    "ExecuteTime": {
     "end_time": "2023-05-17T10:45:53.174162960Z",
     "start_time": "2023-05-17T10:45:53.170199150Z"
    }
   }
  },
  {
   "cell_type": "code",
   "execution_count": 24,
   "outputs": [
    {
     "data": {
      "text/plain": "0.008085576008107356"
     },
     "execution_count": 24,
     "metadata": {},
     "output_type": "execute_result"
    }
   ],
   "source": [
    "2/ max(abs(values))"
   ],
   "metadata": {
    "collapsed": false,
    "ExecuteTime": {
     "end_time": "2023-05-17T10:45:53.372121031Z",
     "start_time": "2023-05-17T10:45:53.367080792Z"
    }
   }
  },
  {
   "cell_type": "code",
   "execution_count": 25,
   "outputs": [],
   "source": [
    "h = 0.001"
   ],
   "metadata": {
    "collapsed": false,
    "ExecuteTime": {
     "end_time": "2023-05-17T10:45:53.523927279Z",
     "start_time": "2023-05-17T10:45:53.518730791Z"
    }
   }
  },
  {
   "cell_type": "code",
   "execution_count": 26,
   "outputs": [],
   "source": [
    "y_eu = np.array([[1],[1]])\n",
    "y_eu_true = np.array([[1],[1]])\n",
    "for i in range(1, 501):\n",
    "\n",
    "    W = np.identity(2) + A*h\n",
    "    y_next = (W@y_eu[:,i-1]).reshape(2,1)\n",
    "    y_eu = np.concatenate((y_eu, y_next), 1)\n",
    "    y_eu_true = np.concatenate((y_eu_true, y_true(h*i)),1)\n"
   ],
   "metadata": {
    "collapsed": false,
    "ExecuteTime": {
     "end_time": "2023-05-17T10:45:53.705425013Z",
     "start_time": "2023-05-17T10:45:53.702534444Z"
    }
   }
  },
  {
   "cell_type": "code",
   "execution_count": 27,
   "outputs": [
    {
     "data": {
      "text/plain": "0.00020797702897090709"
     },
     "execution_count": 27,
     "metadata": {},
     "output_type": "execute_result"
    }
   ],
   "source": [
    "np.max(abs(y_eu-y_eu_true))"
   ],
   "metadata": {
    "collapsed": false,
    "ExecuteTime": {
     "end_time": "2023-05-17T10:45:53.855162065Z",
     "start_time": "2023-05-17T10:45:53.850085402Z"
    }
   }
  },
  {
   "cell_type": "code",
   "execution_count": 28,
   "outputs": [],
   "source": [
    "y_inv = np.array([[1], [1]])\n",
    "y_inv_true = np.array([[1], [1]])\n",
    "for i in range(1, 501):\n",
    "    W = np.linalg.inv((np.identity(2) - A * h))\n",
    "    y_next = (W @ y_inv[:, i - 1]).reshape(2, 1)\n",
    "    y_inv = np.concatenate((y_inv, y_next), 1)\n",
    "    y_inv_true = np.concatenate((y_inv_true, y_true(h * i)), 1)\n"
   ],
   "metadata": {
    "collapsed": false,
    "ExecuteTime": {
     "end_time": "2023-05-17T10:45:54.045462374Z",
     "start_time": "2023-05-17T10:45:54.030223794Z"
    }
   }
  },
  {
   "cell_type": "code",
   "execution_count": 29,
   "outputs": [
    {
     "data": {
      "text/plain": "0.0001688823697275632"
     },
     "execution_count": 29,
     "metadata": {},
     "output_type": "execute_result"
    }
   ],
   "source": [
    "np.max(abs(y_inv-y_inv_true))"
   ],
   "metadata": {
    "collapsed": false,
    "ExecuteTime": {
     "end_time": "2023-05-17T10:45:54.219410915Z",
     "start_time": "2023-05-17T10:45:54.177041885Z"
    }
   }
  },
  {
   "cell_type": "code",
   "execution_count": 30,
   "outputs": [],
   "source": [
    "h = 0.001\n",
    "y_inter_3 = np.array([[1], [1]])\n",
    "y_inter_3_true = np.array([[1], [1]])\n",
    "W = np.linalg.inv((np.identity(2) - A * h))\n",
    "y_next = (W @ y_inter_3[:, 0]).reshape(2, 1)\n",
    "y_inter_3 = np.concatenate((y_inter_3, y_next), 1)\n",
    "y_inter_3_true = np.concatenate((y_inter_3_true, y_true(h)), 1)\n",
    "for i in range(2, 501):\n",
    "    W_0 = (np.identity(2) + 2 / 3 * h * A) @ np.linalg.inv((np.identity(2) - 5 / 12 * h * A))\n",
    "    W_1 = (h / 12 * A) @ np.linalg.inv((np.identity(2) - 5 / 12 * h * A))\n",
    "    y_next = (W_0 @ y_inter_3[:, i - 1] - W_1 @ y_inter_3[:, i - 2]).reshape(2, 1)\n",
    "    y_inter_3 = np.concatenate((y_inter_3, y_next), 1)\n",
    "    y_inter_3_true = np.concatenate((y_inter_3_true, y_true(h * i)), 1)"
   ],
   "metadata": {
    "collapsed": false,
    "ExecuteTime": {
     "end_time": "2023-05-17T10:45:54.411101654Z",
     "start_time": "2023-05-17T10:45:54.370460843Z"
    }
   }
  },
  {
   "cell_type": "code",
   "execution_count": 31,
   "outputs": [
    {
     "data": {
      "text/plain": "8.4993032189562e-05"
     },
     "execution_count": 31,
     "metadata": {},
     "output_type": "execute_result"
    }
   ],
   "source": [
    "np.max(abs(y_inter_3 - y_inter_3_true))"
   ],
   "metadata": {
    "collapsed": false,
    "ExecuteTime": {
     "end_time": "2023-05-17T10:45:54.555431184Z",
     "start_time": "2023-05-17T10:45:54.511247668Z"
    }
   }
  },
  {
   "cell_type": "code",
   "execution_count": 32,
   "outputs": [],
   "source": [
    "y_extr_2 = np.array([[1], [1]])\n",
    "y_extr_2_true  = np.array([[1], [1]])\n",
    "W = np.linalg.inv((np.identity(2) - A * h))\n",
    "y_next = (W @ y_extr_2[:, 0]).reshape(2, 1)\n",
    "y_extr_2 = np.concatenate((y_extr_2, y_next), 1)\n",
    "y_extr_2_true = np.concatenate((y_extr_2_true, y_true(h)), 1)\n",
    "for i in range(2, 501):\n",
    "    W_0 = np.identity(2)+(3/2*h*A)\n",
    "    W_1 = h/2*A\n",
    "    y_next = (W_0@y_extr_2[:,i-1] - W_1@y_extr_2[:,i-2]).reshape(2,1)\n",
    "    y_extr_2 = np.concatenate((y_extr_2, y_next), 1)\n",
    "    y_extr_2_true = np.concatenate((y_extr_2_true, y_true(h * i)), 1)"
   ],
   "metadata": {
    "collapsed": false,
    "ExecuteTime": {
     "end_time": "2023-05-17T10:45:54.727332783Z",
     "start_time": "2023-05-17T10:45:54.675433169Z"
    }
   }
  },
  {
   "cell_type": "code",
   "execution_count": 33,
   "outputs": [
    {
     "data": {
      "text/plain": "8.4993032189562e-05"
     },
     "execution_count": 33,
     "metadata": {},
     "output_type": "execute_result"
    }
   ],
   "source": [
    "np.max(abs(y_extr_2 - y_extr_2_true))"
   ],
   "metadata": {
    "collapsed": false,
    "ExecuteTime": {
     "end_time": "2023-05-17T10:45:54.831267896Z",
     "start_time": "2023-05-17T10:45:54.824636176Z"
    }
   }
  },
  {
   "cell_type": "code",
   "execution_count": 33,
   "outputs": [],
   "source": [],
   "metadata": {
    "collapsed": false,
    "ExecuteTime": {
     "end_time": "2023-05-17T10:45:55.036232279Z",
     "start_time": "2023-05-17T10:45:54.993058843Z"
    }
   }
  },
  {
   "cell_type": "code",
   "execution_count": 33,
   "outputs": [],
   "source": [],
   "metadata": {
    "collapsed": false,
    "ExecuteTime": {
     "end_time": "2023-05-17T10:45:56.635367869Z",
     "start_time": "2023-05-17T10:45:56.616864235Z"
    }
   }
  },
  {
   "cell_type": "code",
   "execution_count": null,
   "outputs": [],
   "source": [],
   "metadata": {
    "collapsed": false
   }
  }
 ],
 "metadata": {
  "kernelspec": {
   "display_name": "Python 3",
   "language": "python",
   "name": "python3"
  },
  "language_info": {
   "codemirror_mode": {
    "name": "ipython",
    "version": 2
   },
   "file_extension": ".py",
   "mimetype": "text/x-python",
   "name": "python",
   "nbconvert_exporter": "python",
   "pygments_lexer": "ipython2",
   "version": "2.7.6"
  }
 },
 "nbformat": 4,
 "nbformat_minor": 0
}
